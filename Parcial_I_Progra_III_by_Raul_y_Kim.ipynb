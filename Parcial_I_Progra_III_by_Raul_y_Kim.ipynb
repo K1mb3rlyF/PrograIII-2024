{
  "nbformat": 4,
  "nbformat_minor": 0,
  "metadata": {
    "colab": {
      "provenance": [],
      "include_colab_link": true
    },
    "kernelspec": {
      "name": "python3",
      "display_name": "Python 3"
    },
    "language_info": {
      "name": "python"
    }
  },
  "cells": [
    {
      "cell_type": "markdown",
      "metadata": {
        "id": "view-in-github",
        "colab_type": "text"
      },
      "source": [
        "<a href=\"https://colab.research.google.com/github/K1mb3rlyF/PrograIII-2024/blob/Parcial-I/Parcial_I_Progra_III_by_Raul_y_Kim.ipynb\" target=\"_parent\"><img src=\"https://colab.research.google.com/assets/colab-badge.svg\" alt=\"Open In Colab\"/></a>"
      ]
    },
    {
      "cell_type": "markdown",
      "source": [
        "# **INTEGRANTES**\n",
        "\n",
        "* ***USSS007723*** Kimberly Naomi Funes Machado.\n",
        "\n",
        "\n",
        "\n",
        "\n",
        "* ***USSS033423*** Raul Alejandro Carcamo Mendez."
      ],
      "metadata": {
        "id": "VUNkv09pSU3S"
      }
    },
    {
      "cell_type": "markdown",
      "source": [
        "1.\tDesarrolle un algoritmo en Python que calcule el IMPUESTO A LAS ACTIVIDADES ECONOMICAS de acuerdo con la siguiente tabla. El monto de la actividad económica debe ser introducido por el usuario."
      ],
      "metadata": {
        "id": "mrCZvsCfMzgL"
      }
    },
    {
      "cell_type": "code",
      "source": [
        "def calcular_impuesto():\n",
        "    print(\"Calculadora de Impuesto a las Actividades Económicas\")\n",
        "    print(\"Introduce el monto de la actividad económica:\")\n",
        "    monto = float(input(\"> \"))\n",
        "\n",
        "    impuestos = [\n",
        "        {\"desde\": 0.01, \"hasta\": 500, \"precio\": 1.5, \"adicional\": 0},\n",
        "        {\"desde\": 500.01, \"hasta\": 1000, \"precio\": 1.5, \"adicional\": 3},\n",
        "        {\"desde\": 1000.01, \"hasta\": 2000, \"precio\": 3, \"adicional\": 3},\n",
        "        {\"desde\": 2000.01, \"hasta\": 3000, \"precio\": 6, \"adicional\": 3},\n",
        "        {\"desde\": 3000.01, \"hasta\": 6000, \"precio\": 9, \"adicional\": 2},\n",
        "        {\"desde\": 8000.01, \"hasta\": 18000, \"precio\": 15, \"adicional\": 2},\n",
        "        {\"desde\": 18000.01, \"hasta\": 30000, \"precio\": 39, \"adicional\": 2},\n",
        "        {\"desde\": 30000.01, \"hasta\": 60000, \"precio\": 63, \"adicional\": 1},\n",
        "        {\"desde\": 60000.01, \"hasta\": 100000, \"precio\": 93, \"adicional\": 0.8},\n",
        "        {\"desde\": 100000.01, \"hasta\": 200000, \"precio\": 125, \"adicional\": 0.7},\n",
        "        {\"desde\": 200000.01, \"hasta\": 300000, \"precio\": 195, \"adicional\": 0.6},\n",
        "        {\"desde\": 300000.01, \"hasta\": 400000, \"precio\": 255, \"adicional\": 0.45},\n",
        "        {\"desde\": 400000.01, \"hasta\": 500000, \"precio\": 300, \"adicional\": 0.4},\n",
        "        {\"desde\": 500000.01, \"hasta\": 1000000, \"precio\": 340, \"adicional\": 0.30},\n",
        "        {\"desde\": 1000000.01, \"hasta\": 99999999, \"precio\": 490, \"adicional\": 0.18},\n",
        "    ]\n",
        "\n",
        "    for fila in impuestos:\n",
        "        if fila[\"desde\"] <= monto <= fila[\"hasta\"]:\n",
        "            break\n",
        "\n",
        "    impuesto = fila[\"precio\"] + (monto - fila[\"desde\"]) * fila[\"adicional\"]\n",
        "\n",
        "    print(f\"El impuesto a las actividades económicas es de {impuesto:.2f}\")\n",
        "\n",
        "calcular_impuesto()"
      ],
      "metadata": {
        "id": "gXozbCRyNi6v",
        "outputId": "89a32e01-e5db-41ab-b438-9c9c79ae0389",
        "colab": {
          "base_uri": "https://localhost:8080/"
        }
      },
      "execution_count": 3,
      "outputs": [
        {
          "output_type": "stream",
          "name": "stdout",
          "text": [
            "Calculadora de Impuesto a las Actividades Económicas\n",
            "Introduce el monto de la actividad económica:\n",
            "> 3\n",
            "El impuesto a las actividades económicas es de 1.50\n"
          ]
        }
      ]
    },
    {
      "cell_type": "markdown",
      "source": [
        "2.\tDesarrolle el conversor de Área (Superficie) haciendo uso de los **diccionarios y las funciones de usuario** en Python que contenga las siguientes opciones:"
      ],
      "metadata": {
        "id": "pjWNfd3PLf3C"
      }
    },
    {
      "cell_type": "code",
      "source": [
        "conversiones = {\n",
        "    \"Pie Cuadrado\": 0.092903,\n",
        "    \"Vara Cuadrada\": 0.836127,\n",
        "    \"Yarda Cuadrada\": 0.836127,\n",
        "    \"Metro Cuadrado\": 1,\n",
        "    \"Tareas\": 100,\n",
        "    \"Manzana\": 6980.656,\n",
        "    \"Hectárea\": 10000,\n",
        "}\n",
        "\n",
        "def conversor_area():\n",
        "    print(\"Conversor de área\")\n",
        "    print(\"Seleccione una opción:\")\n",
        "    print(\"a. Pie Cuadrado\")\n",
        "    print(\"b. Vara Cuadrada\")\n",
        "    print(\"c. Yarda Cuadrada\")\n",
        "    print(\"d. Metro Cuadrado\")\n",
        "    print(\"e. Tareas\")\n",
        "    print(\"f. Manzana\")\n",
        "    print(\"g. Hectárea\")\n",
        "\n",
        "    opcion = input(\"> \")\n",
        "\n",
        "    if opcion.lower() == \"a\":\n",
        "        unidad_origen = \"Pie Cuadrado\"\n",
        "    elif opcion.lower() == \"b\":\n",
        "        unidad_origen = \"Vara Cuadrada\"\n",
        "    elif opcion.lower() == \"c\":\n",
        "        unidad_origen = \"Yarda Cuadrada\"\n",
        "    elif opcion.lower() == \"d\":\n",
        "        unidad_origen = \"Metro Cuadrado\"\n",
        "    elif opcion.lower() == \"e\":\n",
        "        unidad_origen = \"Tareas\"\n",
        "    elif opcion.lower() == \"f\":\n",
        "        unidad_origen = \"Manzana\"\n",
        "    elif opcion.lower() == \"g\":\n",
        "        unidad_origen = \"Hectárea\"\n",
        "    else:\n",
        "        print(\"Opción no válida\")\n",
        "        return\n",
        "\n",
        "    print(f\"Introduce el valor en {unidad_origen}:\")\n",
        "    valor_origen = float(input(\"> \"))\n",
        "\n",
        "    print(\"Seleccione la unidad de destino:\")\n",
        "    print(\"a. Pie Cuadrado\")\n",
        "    print(\"b. Vara Cuadrada\")\n",
        "    print(\"c. Yarda Cuadrada\")\n",
        "    print(\"d. Metro Cuadrado\")\n",
        "    print(\"e. Tareas\")\n",
        "    print(\"f. Manzana\")\n",
        "    print(\"g. Hectárea\")\n",
        "\n",
        "    opcion_destino = input(\"> \")\n",
        "\n",
        "    if opcion_destino.lower() == \"a\":\n",
        "        unidad_destino = \"Pie Cuadrado\"\n",
        "    elif opcion_destino.lower() == \"b\":\n",
        "        unidad_destino = \"Vara Cuadrada\"\n",
        "    elif opcion_destino.lower() == \"c\":\n",
        "        unidad_destino = \"Yarda Cuadrada\"\n",
        "    elif opcion_destino.lower() == \"d\":\n",
        "        unidad_destino = \"Metro Cuadrado\"\n",
        "    elif opcion_destino.lower() == \"e\":\n",
        "        unidad_destino = \"Tareas\"\n",
        "    elif opcion_destino.lower() == \"f\":\n",
        "        unidad_destino = \"Manzana\"\n",
        "    elif opcion_destino.lower() == \"g\":\n",
        "        unidad_destino = \"Hectárea\"\n",
        "    else:\n",
        "        print(\"Opción no válida\")\n",
        "        return\n",
        "\n",
        "    valor_destino = valor_origen * conversiones[unidad_origen] / conversiones[unidad_destino]\n",
        "\n",
        "    print(f\"{valor_origen} {unidad_origen} es igual a {valor_destino:.2f} {unidad_destino}\")\n",
        "\n",
        "conversor_area()"
      ],
      "metadata": {
        "colab": {
          "base_uri": "https://localhost:8080/"
        },
        "id": "RuIgWMn7Ldfl",
        "outputId": "ad7e98f9-1687-42b5-b739-ec5cbb2d803a"
      },
      "execution_count": 1,
      "outputs": [
        {
          "output_type": "stream",
          "name": "stdout",
          "text": [
            "Conversor de área (superficie)\n",
            "Seleccione una opción:\n",
            "a. Pie Cuadrado\n",
            "b. Vara Cuadrada\n",
            "c. Yarda Cuadrada\n",
            "d. Metro Cuadrado\n",
            "e. Tareas\n",
            "f. Manzana\n",
            "g. Hectárea\n",
            "> Pie\n",
            "Opción no válida\n"
          ]
        }
      ]
    },
    {
      "cell_type": "markdown",
      "source": [
        "3.\tDesarrolle un programa en Python que simule a un cajero automático. **Haga uso de las estructuras de control**."
      ],
      "metadata": {
        "id": "n8UWHxTjKnxS"
      }
    },
    {
      "cell_type": "code",
      "source": [
        "def cajero_automáticoRK():\n",
        "    print(\"Bienvenido al cajero automático RK\")\n",
        "    print(\"Ingrese la cantidad a retirar:\")\n",
        "    cantidad = float(input(\"> \"))\n",
        "\n",
        "    billetes = [20, 10, 5, 1]\n",
        "    monedas = [0.25, 0.10, 0.05, 0.01]\n",
        "\n",
        "    billetes_entregados = [0, 0, 0, 0]\n",
        "    monedas_entregadas = [0, 0, 0, 0]\n",
        "\n",
        "    for i, billete in enumerate(billetes):\n",
        "        while cantidad >= billete:\n",
        "            cantidad -= billete\n",
        "            billetes_entregados[i] += 1\n",
        "\n",
        "    for i, moneda in enumerate(monedas):\n",
        "        while cantidad >= moneda:\n",
        "            cantidad -= moneda\n",
        "            monedas_entregadas[i] += 1\n",
        "\n",
        "    print(\"Dinero Entregando:\")\n",
        "    for i, billete in enumerate(billetes):\n",
        "        if billetes_entregados[i] > 0:\n",
        "            print(f\"{billetes_entregados[i]} billete(s) de a {billete}\")\n",
        "    for i, moneda in enumerate(monedas):\n",
        "        if monedas_entregadas[i] > 0:\n",
        "            print(f\"{monedas_entregadas[i]} moneda(s) de a {moneda:.2f} ctvs.\")\n",
        "\n",
        "cajero_automáticoRK()"
      ],
      "metadata": {
        "id": "cfD5dzLsLEkD",
        "colab": {
          "base_uri": "https://localhost:8080/"
        },
        "outputId": "3de7f0bd-a366-456d-9f0c-9925915115e9"
      },
      "execution_count": 4,
      "outputs": [
        {
          "output_type": "stream",
          "name": "stdout",
          "text": [
            "Bienvenido al cajero automático RK\n",
            "Ingrese la cantidad a retirar:\n",
            "> 50\n",
            "Entregando:\n",
            "2 billete(s) de a 20\n",
            "1 billete(s) de a 10\n"
          ]
        }
      ]
    }
  ]
}