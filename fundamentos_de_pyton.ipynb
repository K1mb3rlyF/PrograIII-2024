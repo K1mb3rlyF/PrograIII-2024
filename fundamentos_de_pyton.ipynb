{
  "nbformat": 4,
  "nbformat_minor": 0,
  "metadata": {
    "colab": {
      "provenance": [],
      "authorship_tag": "ABX9TyN8xhbgok2jObCnTg/KKlid",
      "include_colab_link": true
    },
    "kernelspec": {
      "name": "python3",
      "display_name": "Python 3"
    },
    "language_info": {
      "name": "python"
    }
  },
  "cells": [
    {
      "cell_type": "markdown",
      "metadata": {
        "id": "view-in-github",
        "colab_type": "text"
      },
      "source": [
        "<a href=\"https://colab.research.google.com/github/K1mb3rlyF/PrograIII-2024/blob/main/fundamentos_de_pyton.ipynb\" target=\"_parent\"><img src=\"https://colab.research.google.com/assets/colab-badge.svg\" alt=\"Open In Colab\"/></a>"
      ]
    },
    {
      "cell_type": "code",
      "execution_count": null,
      "metadata": {
        "colab": {
          "base_uri": "https://localhost:8080/"
        },
        "collapsed": true,
        "id": "jXVy3fpZ73z0",
        "outputId": "279c7f63-cd4c-473d-85fa-1c71b74a7f1f"
      },
      "outputs": [
        {
          "output_type": "stream",
          "name": "stdout",
          "text": [
            "Hola Kimberly Funes ,inicial:  K r\n"
          ]
        }
      ],
      "source": [
        "print(\"Hola Mundo\")\n",
        "nombre = \"Kimberly Funes\"\n",
        "\n",
        "print(\"Hola\", nombre, \",inicial: \", nombre[0], nombre[5])"
      ]
    },
    {
      "cell_type": "markdown",
      "source": [
        "EJERCICIO, crear un programa en pyton que sume dos numeros"
      ],
      "metadata": {
        "id": "VLCiMm-O9cEX"
      }
    },
    {
      "cell_type": "code",
      "source": [
        "num1 = 5\n",
        "num2 = 9.5\n",
        "resp = num1 + num2\n",
        "print(\"La suma es: \", resp)"
      ],
      "metadata": {
        "colab": {
          "base_uri": "https://localhost:8080/"
        },
        "collapsed": true,
        "id": "Q5mzenn49ZZl",
        "outputId": "1382de05-5ea1-4a1e-c297-ae0d93f4ea5c"
      },
      "execution_count": null,
      "outputs": [
        {
          "output_type": "stream",
          "name": "stdout",
          "text": [
            "La suma es:  14.5\n"
          ]
        }
      ]
    },
    {
      "cell_type": "markdown",
      "source": [
        "EJERCICIO, crear un programa en pyton que sume dos numeros introducidos por el usuario"
      ],
      "metadata": {
        "id": "aKoQvRED_M-t"
      }
    },
    {
      "cell_type": "code",
      "source": [
        "print(\"Num 1\")\n",
        "num1 = float(input())\n",
        "\n",
        "print(\"Num 2\")\n",
        "num2 = float(input())\n",
        "\n",
        "resp = num1 + num2\n",
        "print(\"La suma es: \", resp)"
      ],
      "metadata": {
        "colab": {
          "base_uri": "https://localhost:8080/"
        },
        "collapsed": true,
        "id": "UslIRGwU_Q5z",
        "outputId": "c770509b-3b60-4e37-84d1-4043eb496d76"
      },
      "execution_count": null,
      "outputs": [
        {
          "output_type": "stream",
          "name": "stdout",
          "text": [
            "Num 1\n",
            "9\n",
            "Num 2\n",
            "4.5\n",
            "La suma es:  13.5\n"
          ]
        }
      ]
    },
    {
      "cell_type": "code",
      "source": [
        "#Tipos de datos\n",
        "num1 = 5 #entero\n",
        "num2 = 5.9 #decimal\n",
        "nombre = \"Kimberly Funes\" #cadena\n",
        "print(nombre[0:8], nombre[:8], nombre[-1], nombre[9:len(nombre)])\n",
        "\n",
        "estado = True\n",
        "print(estado)\n",
        "\n",
        "print(type(nombre), type(num1), type(num2), type(estado) )\n"
      ],
      "metadata": {
        "colab": {
          "base_uri": "https://localhost:8080/"
        },
        "collapsed": true,
        "id": "UTDcRYbeCFQe",
        "outputId": "c22e7282-7853-49a3-f6da-1ab13e7b5ed3"
      },
      "execution_count": 2,
      "outputs": [
        {
          "output_type": "stream",
          "name": "stdout",
          "text": [
            "Kimberly Kimberly s Funes\n",
            "True\n",
            "<class 'str'> <class 'int'> <class 'float'> <class 'bool'>\n"
          ]
        }
      ]
    },
    {
      "cell_type": "markdown",
      "source": [
        "EJERCICIO, crear un programa en pyton que lea un numero y determine si es par o impar."
      ],
      "metadata": {
        "id": "LjLZooL7Et10"
      }
    },
    {
      "cell_type": "code",
      "source": [
        "num = int(input(\"ingrese un numero: \"))\n",
        "if num % 2 == 0:\n",
        "  print(\"El numero es par\", num)\n",
        "else:\n",
        "  print(\"El numero es impar\")"
      ],
      "metadata": {
        "colab": {
          "base_uri": "https://localhost:8080/"
        },
        "id": "Xe5ZSy7hE0HF",
        "outputId": "08b75069-3fb1-41ed-f629-298a95f01712"
      },
      "execution_count": null,
      "outputs": [
        {
          "output_type": "stream",
          "name": "stdout",
          "text": [
            "ingrese un numero: 8\n",
            "El numero es par 8\n"
          ]
        }
      ]
    },
    {
      "cell_type": "markdown",
      "source": [
        "EJERCICIO: Uso de las funciones de usuario, con la suma de dos numeros."
      ],
      "metadata": {
        "id": "JZGPBVm6bQlu"
      }
    },
    {
      "cell_type": "code",
      "source": [
        "def suma(num1, num2):\n",
        "  return num1 + num2"
      ],
      "metadata": {
        "id": "jbGe_PB0odUY"
      },
      "execution_count": 8,
      "outputs": []
    },
    {
      "cell_type": "code",
      "source": [
        "  num1 = float(input(\"Num1 : \"))\n",
        "  num2 = float(input(\"Num2 :\"))\n",
        "\n",
        "  resp = suma(num1, num2)\n",
        "  print(\"a suma es: \", resp)"
      ],
      "metadata": {
        "colab": {
          "base_uri": "https://localhost:8080/"
        },
        "collapsed": true,
        "id": "-VOZb-3hXa4w",
        "outputId": "6f9cf96c-8388-4820-bea2-b8a69f461722"
      },
      "execution_count": 9,
      "outputs": [
        {
          "output_type": "stream",
          "name": "stdout",
          "text": [
            "Num1 : 5\n",
            "Num2 :9\n",
            "a suma es:  14.0\n"
          ]
        }
      ]
    },
    {
      "cell_type": "markdown",
      "source": [
        "EJERICIO: Converti grados celsius a farenheit, usando funciones de usuario."
      ],
      "metadata": {
        "id": "97FmB5lPoujy"
      }
    },
    {
      "cell_type": "code",
      "source": [
        "def convertir_cf(c):\n",
        "  return 32 + c*1.8"
      ],
      "metadata": {
        "id": "oMkEjKsPo6n5"
      },
      "execution_count": 18,
      "outputs": []
    },
    {
      "cell_type": "code",
      "source": [
        "c = float(input(\"Celcius: \"))\n",
        "print(\"F: \", convertir_cf(c))"
      ],
      "metadata": {
        "colab": {
          "base_uri": "https://localhost:8080/"
        },
        "collapsed": true,
        "id": "REFhaMfRpRRA",
        "outputId": "f1fe922a-ebd6-4460-eec4-707ff6af9a29"
      },
      "execution_count": 19,
      "outputs": [
        {
          "output_type": "stream",
          "name": "stdout",
          "text": [
            "Celcius: 33\n",
            "F:  91.4\n"
          ]
        }
      ]
    },
    {
      "cell_type": "markdown",
      "source": [
        "EJERCICIO: Determina si un numero es par o impar."
      ],
      "metadata": {
        "id": "rz8kuGXqrtTx"
      }
    },
    {
      "cell_type": "code",
      "source": [
        "def parImpar(num):\n",
        "  if(num%2==0):\n",
        "   return \"par\"\n",
        "  return \"impar\""
      ],
      "metadata": {
        "id": "zs1H97x7rsGL"
      },
      "execution_count": 26,
      "outputs": []
    },
    {
      "cell_type": "code",
      "source": [
        "num = int(input(\"Num: \"))\n",
        "print(\"El numero \", num, \" es: \", parImpar(num))"
      ],
      "metadata": {
        "colab": {
          "base_uri": "https://localhost:8080/"
        },
        "id": "9DxgAFd4sd2Z",
        "outputId": "3482ec25-de89-49f9-c858-55434b6f5af8"
      },
      "execution_count": 27,
      "outputs": [
        {
          "output_type": "stream",
          "name": "stdout",
          "text": [
            "Num: 9\n",
            "El numero  9  es:  impar\n"
          ]
        }
      ]
    },
    {
      "cell_type": "markdown",
      "source": [
        "**TAREA (MIERCOLES):**\n",
        "1.  Convertir grados Farenheits a Celsius.\n",
        "2.  Convertir grados [Celsius y Farenheit] a kelvin.\n",
        "\n",
        "\n"
      ],
      "metadata": {
        "id": "zqEoV-LXtjM4"
      }
    },
    {
      "cell_type": "markdown",
      "source": [
        "EJERCICIO 1: Convertir grados Farenheits a Celsius."
      ],
      "metadata": {
        "id": "t4rkaBovzjIy"
      }
    },
    {
      "cell_type": "code",
      "source": [
        "def convertir(f):\n",
        "  c =  (f-32) * 5/9\n",
        "  return c"
      ],
      "metadata": {
        "id": "jchBnCeIzePl"
      },
      "execution_count": 36,
      "outputs": []
    },
    {
      "cell_type": "code",
      "source": [
        "  f = float(input(\"Ingresa los grados Farenheits: \"))\n",
        "  print(f\"La conversion a grados celsius es: {convertir(f)}\")"
      ],
      "metadata": {
        "colab": {
          "base_uri": "https://localhost:8080/"
        },
        "id": "bIWvfia117nC",
        "outputId": "b3b91c41-54bc-4125-c5f0-98a6e6fad341"
      },
      "execution_count": 39,
      "outputs": [
        {
          "output_type": "stream",
          "name": "stdout",
          "text": [
            "Ingresa los grados Farenheits: 70\n",
            "La conversion a grados celsius es: 21.11111111111111\n"
          ]
        }
      ]
    },
    {
      "cell_type": "markdown",
      "source": [
        "EJERCICIO 2: Convertir grados [Celsius y Farenheit] a kelvin."
      ],
      "metadata": {
        "id": "Pc3sSUj91ZkO"
      }
    },
    {
      "cell_type": "code",
      "source": [
        "def celsius_a_kelvin(celsius):\n",
        "\n",
        "    kelvin = celsius + 273.15\n",
        "    return kelvin\n",
        "\n",
        "def fahrenheit_a_kelvin(fahrenheit):\n",
        "\n",
        "    celsius = (fahrenheit - 32) * 5.0/9.0\n",
        "    kelvin = celsius_a_kelvin(celsius)\n",
        "    return kelvin\n",
        "\n",
        "def convertir_a_kelvin():\n",
        "    f\n",
        "    opcion = input(\"Seleccione la temperatura para convertir a Kelvin (C para Celsius, F para Fahrenheit): \").strip().upper()\n",
        "\n",
        "    if opcion == 'C':\n",
        "        temperatura_celsius = float(input(\"Digite la temperatura en grados Celsius: \"))\n",
        "        temperatura_kelvin = celsius_a_kelvin(temperatura_celsius)\n",
        "        print(f\"{temperatura_celsius}°C es igual a {temperatura_kelvin:.2f} K\")\n",
        "    elif opcion == 'F':\n",
        "        temperatura_fahrenheit = float(input(\"Digite la temperatura en grados Fahrenheit: \"))\n",
        "        temperatura_kelvin = fahrenheit_a_kelvin(temperatura_fahrenheit)\n",
        "        print(f\"{temperatura_fahrenheit}°F es igual a {temperatura_kelvin:.2f} K\")\n",
        "    else:\n",
        "        print(\"ERROR. asegurese de elejir 'C' para Celsius o 'F' para Fahrenheit.\")\n",
        "\n",
        "\n",
        "convertir_a_kelvin()\n",
        ""
      ],
      "metadata": {
        "colab": {
          "base_uri": "https://localhost:8080/"
        },
        "id": "-H_rKibtzZeG",
        "outputId": "756d0325-72d6-40fc-f332-e56da0584fd6"
      },
      "execution_count": 41,
      "outputs": [
        {
          "output_type": "stream",
          "name": "stdout",
          "text": [
            "Seleccione la temperatura para convertir a Kelvin (C para Celsius, F para Fahrenheit): c\n",
            "Digite la temperatura en grados Celsius: 30\n",
            "30.0°C es igual a 303.15 K\n"
          ]
        }
      ]
    },
    {
      "cell_type": "markdown",
      "source": [
        "EJERCICIO: Calcular el suelo de un trabajador."
      ],
      "metadata": {
        "id": "QVsRy3GAuNm0"
      }
    },
    {
      "cell_type": "code",
      "source": [
        "def sueldo(numHrs, valorXHrs):\n",
        "  sueldo = numHrs * valorXHrs * 30 # 10*1.5*30 = 450\n",
        "  if(numHrs>8):\n",
        "    sueldo = sueldo + (numHrs-8) * valorXHrs * 30 # 2*1.5*30 = 90\n",
        "  return sueldo"
      ],
      "metadata": {
        "id": "fkTQHkBAuV7a"
      },
      "execution_count": 30,
      "outputs": []
    },
    {
      "cell_type": "code",
      "source": [
        "numHrs = int(input(\"Horas: \"))\n",
        "valorXHrs = float(input(\"Valor: \"))\n",
        "\n",
        "print(\"Sueldo: \", sueldo(numHrs, valorXHrs))"
      ],
      "metadata": {
        "colab": {
          "base_uri": "https://localhost:8080/"
        },
        "id": "FY__w3G9uDXB",
        "outputId": "603e4c94-e87b-4e44-e805-26021a15916e"
      },
      "execution_count": 31,
      "outputs": [
        {
          "output_type": "stream",
          "name": "stdout",
          "text": [
            "Horas: 10\n",
            "Valor: 1.5\n",
            "Sueldo:  540.0\n"
          ]
        }
      ]
    }
  ]
}