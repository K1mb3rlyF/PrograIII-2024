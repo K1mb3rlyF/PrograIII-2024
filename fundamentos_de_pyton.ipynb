{
  "nbformat": 4,
  "nbformat_minor": 0,
  "metadata": {
    "colab": {
      "provenance": [],
      "authorship_tag": "ABX9TyMsyLFjkIV/1zq312+iTZ3J",
      "include_colab_link": true
    },
    "kernelspec": {
      "name": "python3",
      "display_name": "Python 3"
    },
    "language_info": {
      "name": "python"
    }
  },
  "cells": [
    {
      "cell_type": "markdown",
      "metadata": {
        "id": "view-in-github",
        "colab_type": "text"
      },
      "source": [
        "<a href=\"https://colab.research.google.com/github/K1mb3rlyF/PrograIII-2024/blob/main/fundamentos_de_pyton.ipynb\" target=\"_parent\"><img src=\"https://colab.research.google.com/assets/colab-badge.svg\" alt=\"Open In Colab\"/></a>"
      ]
    },
    {
      "cell_type": "code",
      "execution_count": null,
      "metadata": {
        "colab": {
          "base_uri": "https://localhost:8080/"
        },
        "collapsed": true,
        "id": "jXVy3fpZ73z0",
        "outputId": "279c7f63-cd4c-473d-85fa-1c71b74a7f1f"
      },
      "outputs": [
        {
          "output_type": "stream",
          "name": "stdout",
          "text": [
            "Hola Kimberly Funes ,inicial:  K r\n"
          ]
        }
      ],
      "source": [
        "print(\"Hola Mundo\")\n",
        "nombre = \"Kimberly Funes\"\n",
        "\n",
        "print(\"Hola\", nombre, \",inicial: \", nombre[0], nombre[5])"
      ]
    },
    {
      "cell_type": "markdown",
      "source": [
        "EJERCICIO, crear un programa en pyton que sume dos numeros"
      ],
      "metadata": {
        "id": "VLCiMm-O9cEX"
      }
    },
    {
      "cell_type": "code",
      "source": [
        "num1 = 5\n",
        "num2 = 9.5\n",
        "resp = num1 + num2\n",
        "print(\"La suma es: \", resp)"
      ],
      "metadata": {
        "colab": {
          "base_uri": "https://localhost:8080/"
        },
        "collapsed": true,
        "id": "Q5mzenn49ZZl",
        "outputId": "1382de05-5ea1-4a1e-c297-ae0d93f4ea5c"
      },
      "execution_count": null,
      "outputs": [
        {
          "output_type": "stream",
          "name": "stdout",
          "text": [
            "La suma es:  14.5\n"
          ]
        }
      ]
    },
    {
      "cell_type": "markdown",
      "source": [
        "EJERCICIO, crear un programa en pyton que sume dos numeros introducidos por el usuario"
      ],
      "metadata": {
        "id": "aKoQvRED_M-t"
      }
    },
    {
      "cell_type": "code",
      "source": [
        "print(\"Num 1\")\n",
        "num1 = float(input())\n",
        "\n",
        "print(\"Num 2\")\n",
        "num2 = float(input())\n",
        "\n",
        "resp = num1 + num2\n",
        "print(\"La suma es: \", resp)"
      ],
      "metadata": {
        "colab": {
          "base_uri": "https://localhost:8080/"
        },
        "collapsed": true,
        "id": "UslIRGwU_Q5z",
        "outputId": "c770509b-3b60-4e37-84d1-4043eb496d76"
      },
      "execution_count": null,
      "outputs": [
        {
          "output_type": "stream",
          "name": "stdout",
          "text": [
            "Num 1\n",
            "9\n",
            "Num 2\n",
            "4.5\n",
            "La suma es:  13.5\n"
          ]
        }
      ]
    },
    {
      "cell_type": "code",
      "source": [
        "#Tipos de datos\n",
        "num1 = 5 #entero\n",
        "num2 = 5.9 #decimal\n",
        "nombre = \"Kimberly Funes\" #cadena\n",
        "print(nombre[0:8], nombre[:8], nombre[-1], nombre[9:len(nombre)])\n",
        "\n",
        "estado = True\n",
        "print(estado)\n",
        "\n",
        "print(type(nombre), type(num1), type(num2), type(estado) )\n"
      ],
      "metadata": {
        "colab": {
          "base_uri": "https://localhost:8080/"
        },
        "collapsed": true,
        "id": "UTDcRYbeCFQe",
        "outputId": "c22e7282-7853-49a3-f6da-1ab13e7b5ed3"
      },
      "execution_count": null,
      "outputs": [
        {
          "output_type": "stream",
          "name": "stdout",
          "text": [
            "Kimberly Kimberly s Funes\n",
            "True\n",
            "<class 'str'> <class 'int'> <class 'float'> <class 'bool'>\n"
          ]
        }
      ]
    },
    {
      "cell_type": "markdown",
      "source": [
        "EJERCICIO, crear un programa en pyton que lea un numero y determine si es par o impar."
      ],
      "metadata": {
        "id": "LjLZooL7Et10"
      }
    },
    {
      "cell_type": "code",
      "source": [
        "num = int(input(\"ingrese un numero: \"))\n",
        "if num % 2 == 0:\n",
        "  print(\"El numero es par\", num)\n",
        "else:\n",
        "  print(\"El numero es impar\")"
      ],
      "metadata": {
        "colab": {
          "base_uri": "https://localhost:8080/"
        },
        "id": "Xe5ZSy7hE0HF",
        "outputId": "08b75069-3fb1-41ed-f629-298a95f01712"
      },
      "execution_count": null,
      "outputs": [
        {
          "output_type": "stream",
          "name": "stdout",
          "text": [
            "ingrese un numero: 8\n",
            "El numero es par 8\n"
          ]
        }
      ]
    },
    {
      "cell_type": "markdown",
      "source": [
        "EJERCICIO: Uso de las funciones de usuario, con la suma de dos numeros."
      ],
      "metadata": {
        "id": "JZGPBVm6bQlu"
      }
    },
    {
      "cell_type": "code",
      "source": [
        "def suma(num1, num2):\n",
        "  return num1 + num2"
      ],
      "metadata": {
        "id": "jbGe_PB0odUY"
      },
      "execution_count": null,
      "outputs": []
    },
    {
      "cell_type": "code",
      "source": [
        "  num1 = float(input(\"Num1 : \"))\n",
        "  num2 = float(input(\"Num2 :\"))\n",
        "\n",
        "  resp = suma(num1, num2)\n",
        "  print(\"a suma es: \", resp)"
      ],
      "metadata": {
        "colab": {
          "base_uri": "https://localhost:8080/"
        },
        "collapsed": true,
        "id": "-VOZb-3hXa4w",
        "outputId": "6f9cf96c-8388-4820-bea2-b8a69f461722"
      },
      "execution_count": null,
      "outputs": [
        {
          "output_type": "stream",
          "name": "stdout",
          "text": [
            "Num1 : 5\n",
            "Num2 :9\n",
            "a suma es:  14.0\n"
          ]
        }
      ]
    },
    {
      "cell_type": "markdown",
      "source": [
        "EJERICIO: Converti grados celsius a farenheit, usando funciones de usuario."
      ],
      "metadata": {
        "id": "97FmB5lPoujy"
      }
    },
    {
      "cell_type": "code",
      "source": [
        "def convertir_cf(c):\n",
        "  return 32 + c*1.8"
      ],
      "metadata": {
        "id": "oMkEjKsPo6n5"
      },
      "execution_count": null,
      "outputs": []
    },
    {
      "cell_type": "code",
      "source": [
        "c = float(input(\"Celcius: \"))\n",
        "print(\"F: \", convertir_cf(c))"
      ],
      "metadata": {
        "colab": {
          "base_uri": "https://localhost:8080/"
        },
        "collapsed": true,
        "id": "REFhaMfRpRRA",
        "outputId": "f1fe922a-ebd6-4460-eec4-707ff6af9a29"
      },
      "execution_count": null,
      "outputs": [
        {
          "output_type": "stream",
          "name": "stdout",
          "text": [
            "Celcius: 33\n",
            "F:  91.4\n"
          ]
        }
      ]
    },
    {
      "cell_type": "markdown",
      "source": [
        "EJERCICIO: Determina si un numero es par o impar."
      ],
      "metadata": {
        "id": "rz8kuGXqrtTx"
      }
    },
    {
      "cell_type": "code",
      "source": [
        "def parImpar(num):\n",
        "  if(num%2==0):\n",
        "   return \"par\"\n",
        "  return \"impar\""
      ],
      "metadata": {
        "id": "zs1H97x7rsGL"
      },
      "execution_count": null,
      "outputs": []
    },
    {
      "cell_type": "code",
      "source": [
        "num = int(input(\"Num: \"))\n",
        "print(\"El numero \", num, \" es: \", parImpar(num))"
      ],
      "metadata": {
        "colab": {
          "base_uri": "https://localhost:8080/"
        },
        "id": "9DxgAFd4sd2Z",
        "outputId": "3482ec25-de89-49f9-c858-55434b6f5af8"
      },
      "execution_count": null,
      "outputs": [
        {
          "output_type": "stream",
          "name": "stdout",
          "text": [
            "Num: 9\n",
            "El numero  9  es:  impar\n"
          ]
        }
      ]
    },
    {
      "cell_type": "markdown",
      "source": [
        "**TAREA (MIERCOLES):**\n",
        "1.  Convertir grados Farenheits a Celsius.\n",
        "2.  Convertir grados [Celsius y Farenheit] a kelvin.\n",
        "\n",
        "\n"
      ],
      "metadata": {
        "id": "zqEoV-LXtjM4"
      }
    },
    {
      "cell_type": "markdown",
      "source": [
        "EJERCICIO 1: Convertir grados Farenheits a Celsius."
      ],
      "metadata": {
        "id": "t4rkaBovzjIy"
      }
    },
    {
      "cell_type": "code",
      "source": [
        "def convertir(f):\n",
        "  c =  (f-32) * 5/9\n",
        "  return c"
      ],
      "metadata": {
        "id": "jchBnCeIzePl"
      },
      "execution_count": null,
      "outputs": []
    },
    {
      "cell_type": "code",
      "source": [
        "  f = float(input(\"Ingresa los grados Farenheits: \"))\n",
        "  print(f\"La conversion a grados celsius es: {convertir(f)}\")"
      ],
      "metadata": {
        "colab": {
          "base_uri": "https://localhost:8080/"
        },
        "id": "bIWvfia117nC",
        "outputId": "b3b91c41-54bc-4125-c5f0-98a6e6fad341"
      },
      "execution_count": null,
      "outputs": [
        {
          "output_type": "stream",
          "name": "stdout",
          "text": [
            "Ingresa los grados Farenheits: 70\n",
            "La conversion a grados celsius es: 21.11111111111111\n"
          ]
        }
      ]
    },
    {
      "cell_type": "markdown",
      "source": [
        "EJERCICIO 2: Convertir grados [Celsius y Farenheit] a kelvin."
      ],
      "metadata": {
        "id": "Pc3sSUj91ZkO"
      }
    },
    {
      "cell_type": "code",
      "source": [
        "def celsius_a_kelvin(celsius):\n",
        "\n",
        "    kelvin = celsius + 273.15\n",
        "    return kelvin\n",
        "\n",
        "def fahrenheit_a_kelvin(fahrenheit):\n",
        "\n",
        "    celsius = (fahrenheit - 32) * 5.0/9.0\n",
        "    kelvin = celsius_a_kelvin(celsius)\n",
        "    return kelvin\n",
        "\n",
        "def convertir_a_kelvin():\n",
        "    f\n",
        "    opcion = input(\"Seleccione la temperatura para convertir a Kelvin (C para Celsius, F para Fahrenheit): \").strip().upper()\n",
        "\n",
        "    if opcion == 'C':\n",
        "        temperatura_celsius = float(input(\"Digite la temperatura en grados Celsius: \"))\n",
        "        temperatura_kelvin = celsius_a_kelvin(temperatura_celsius)\n",
        "        print(f\"{temperatura_celsius}°C es igual a {temperatura_kelvin:.2f} K\")\n",
        "    elif opcion == 'F':\n",
        "        temperatura_fahrenheit = float(input(\"Digite la temperatura en grados Fahrenheit: \"))\n",
        "        temperatura_kelvin = fahrenheit_a_kelvin(temperatura_fahrenheit)\n",
        "        print(f\"{temperatura_fahrenheit}°F es igual a {temperatura_kelvin:.2f} K\")\n",
        "    else:\n",
        "        print(\"ERROR. asegurese de elejir 'C' para Celsius o 'F' para Fahrenheit.\")\n",
        "\n",
        "\n",
        "convertir_a_kelvin()\n"
      ],
      "metadata": {
        "colab": {
          "base_uri": "https://localhost:8080/"
        },
        "id": "-H_rKibtzZeG",
        "outputId": "756d0325-72d6-40fc-f332-e56da0584fd6"
      },
      "execution_count": null,
      "outputs": [
        {
          "output_type": "stream",
          "name": "stdout",
          "text": [
            "Seleccione la temperatura para convertir a Kelvin (C para Celsius, F para Fahrenheit): c\n",
            "Digite la temperatura en grados Celsius: 30\n",
            "30.0°C es igual a 303.15 K\n"
          ]
        }
      ]
    },
    {
      "cell_type": "markdown",
      "source": [
        "EJERCICIO: Calcular el suelo de un trabajador."
      ],
      "metadata": {
        "id": "QVsRy3GAuNm0"
      }
    },
    {
      "cell_type": "code",
      "source": [
        "def sueldo(numHrs, valorXHrs):\n",
        "  sueldo = numHrs * valorXHrs * 30 # 10*1.5*30 = 450\n",
        "  if(numHrs>8):\n",
        "    sueldo = sueldo + (numHrs-8) * valorXHrs * 30 # 2*1.5*30 = 90\n",
        "  return sueldo"
      ],
      "metadata": {
        "id": "fkTQHkBAuV7a"
      },
      "execution_count": null,
      "outputs": []
    },
    {
      "cell_type": "code",
      "source": [
        "numHrs = int(input(\"Horas: \"))\n",
        "valorXHrs = float(input(\"Valor: \"))\n",
        "\n",
        "print(\"Sueldo: \", sueldo(numHrs, valorXHrs))"
      ],
      "metadata": {
        "colab": {
          "base_uri": "https://localhost:8080/"
        },
        "id": "FY__w3G9uDXB",
        "outputId": "603e4c94-e87b-4e44-e805-26021a15916e"
      },
      "execution_count": null,
      "outputs": [
        {
          "output_type": "stream",
          "name": "stdout",
          "text": [
            "Horas: 10\n",
            "Valor: 1.5\n",
            "Sueldo:  540.0\n"
          ]
        }
      ]
    },
    {
      "cell_type": "markdown",
      "source": [
        "EJERCICIO: elevar un numero al cuadrado."
      ],
      "metadata": {
        "id": "KYnxO7gW6Fu6"
      }
    },
    {
      "cell_type": "code",
      "source": [
        "def elevarCuadrado(base=0,exponente=2):\n",
        "  return base**exponente"
      ],
      "metadata": {
        "id": "CYmgJsKx6KyJ"
      },
      "execution_count": null,
      "outputs": []
    },
    {
      "cell_type": "code",
      "source": [
        "num = int(input(\"Num: \"))\n",
        "print(\"Cuadrado: \", elevarCuadrado(num, 3))"
      ],
      "metadata": {
        "collapsed": true,
        "id": "pP3oTx_W6VJb",
        "outputId": "f7e4a18e-f62c-4f9e-b6c9-d325ba4262d6",
        "colab": {
          "base_uri": "https://localhost:8080/"
        }
      },
      "execution_count": null,
      "outputs": [
        {
          "output_type": "stream",
          "name": "stdout",
          "text": [
            "Num: 4\n",
            "Cuadrado:  64\n"
          ]
        }
      ]
    },
    {
      "cell_type": "markdown",
      "source": [
        "USANDO FUNCIONES LAMBDA"
      ],
      "metadata": {
        "id": "bduTly6h8HmU"
      }
    },
    {
      "cell_type": "code",
      "source": [
        "elevarCuadradoLambda = lambda base, exponente: base**exponente"
      ],
      "metadata": {
        "id": "wKRwRGrO8Mwu"
      },
      "execution_count": null,
      "outputs": []
    },
    {
      "cell_type": "code",
      "source": [
        "valor = int(input(\"Num: \"))\n",
        "print(\"Cuadrado: \", elevarCuadradoLambda(valor, 2))"
      ],
      "metadata": {
        "id": "WTsPNUGz85_P",
        "outputId": "6233bd4d-3918-491c-8aa7-09d5ddf63b14",
        "colab": {
          "base_uri": "https://localhost:8080/"
        }
      },
      "execution_count": null,
      "outputs": [
        {
          "output_type": "stream",
          "name": "stdout",
          "text": [
            "Num: 3\n",
            "Cuadrado:  9\n"
          ]
        }
      ]
    },
    {
      "cell_type": "code",
      "source": [
        "serie = [5,4,3,2,6,7]\n",
        "resp = map(lambda x: x**2, serie)\n",
        "print(list(resp))\n",
        "\n",
        "resp2 = map(elevarCuadrado, serie)\n",
        "print(list(resp2))"
      ],
      "metadata": {
        "id": "CuVPlSh4_dOE",
        "outputId": "e1c06905-be77-4865-eb64-1bbeb8e96807",
        "colab": {
          "base_uri": "https://localhost:8080/"
        }
      },
      "execution_count": null,
      "outputs": [
        {
          "output_type": "stream",
          "name": "stdout",
          "text": [
            "[25, 16, 9, 4, 36, 49]\n",
            "[25, 16, 9, 4, 36, 49]\n"
          ]
        }
      ]
    },
    {
      "cell_type": "markdown",
      "source": [
        "EJERCICIO: Obtener la raiz cuadrada de una serie de numeros fijos."
      ],
      "metadata": {
        "id": "DDSlOWkmCvae"
      }
    },
    {
      "cell_type": "code",
      "source": [
        "def raizCuadrada(num):\n",
        "  return num**0.5"
      ],
      "metadata": {
        "id": "-44n--eQC9uv"
      },
      "execution_count": null,
      "outputs": []
    },
    {
      "cell_type": "code",
      "source": [
        "serie = [5,4,3,2,6,7]\n",
        "resp = map(raizCuadrada, serie)\n",
        "print(list(resp))"
      ],
      "metadata": {
        "id": "YeIMftWhDSjt",
        "outputId": "e26de696-c36e-4cde-d561-b5f8b7c75204",
        "colab": {
          "base_uri": "https://localhost:8080/"
        }
      },
      "execution_count": null,
      "outputs": [
        {
          "output_type": "stream",
          "name": "stdout",
          "text": [
            "[2.23606797749979, 2.0, 1.7320508075688772, 1.4142135623730951, 2.449489742783178, 2.6457513110645907]\n"
          ]
        }
      ]
    },
    {
      "cell_type": "markdown",
      "source": [
        "Ejercicios con funciones preconstruidas en pyton.:\n",
        "- MAP."
      ],
      "metadata": {
        "id": "KjjJiDCfbhc9"
      }
    },
    {
      "cell_type": "code",
      "source": [
        "numeros = [1,2,3,4,5,6,7,8,9]\n",
        "print (list(map(lambda n: n*2, numeros)))"
      ],
      "metadata": {
        "id": "Kh5f4DUZbr2D",
        "outputId": "b105b61e-f51b-44b5-d04e-86eae1077389",
        "colab": {
          "base_uri": "https://localhost:8080/"
        }
      },
      "execution_count": 1,
      "outputs": [
        {
          "output_type": "stream",
          "name": "stdout",
          "text": [
            "[2, 4, 6, 8, 10, 12, 14, 16, 18]\n"
          ]
        }
      ]
    },
    {
      "cell_type": "code",
      "source": [
        "numeros = [1,2,3,4,5,6,7,8,9, 10]\n",
        "ntabla = int(input(\"Tabla: \"))\n",
        "print(list(map(lambda n: n*ntabla, numeros))) #tabla de multiplicar"
      ],
      "metadata": {
        "id": "cdDJu37yb-rH",
        "outputId": "4e9e1aad-6cc1-4c9b-fa6a-0fe95c9a8797",
        "colab": {
          "base_uri": "https://localhost:8080/"
        }
      },
      "execution_count": 6,
      "outputs": [
        {
          "output_type": "stream",
          "name": "stdout",
          "text": [
            "Tabla: 7\n",
            "[7, 14, 21, 28, 35, 42, 49, 56, 63, 70]\n"
          ]
        }
      ]
    },
    {
      "cell_type": "markdown",
      "source": [
        "- FILTER"
      ],
      "metadata": {
        "id": "Oy36hXGbdD5R"
      }
    },
    {
      "cell_type": "code",
      "source": [
        "numeros = [1,2,3,4,5,6,7,8,9,10]\n",
        "print(\"Pares: \", list(filter(lambda n: n%2==0, numeros))) #Obtener solo los numeros pares.\n",
        "print(\"Impares: \", list(filter(lambda n: n%2!=0, numeros))) #Obtener los numeros impares.\n"
      ],
      "metadata": {
        "id": "3N9xaWprdHnE",
        "outputId": "7f761d69-22b5-4b80-bc29-2c02cadbfc8e",
        "colab": {
          "base_uri": "https://localhost:8080/"
        }
      },
      "execution_count": 8,
      "outputs": [
        {
          "output_type": "stream",
          "name": "stdout",
          "text": [
            "Pares:  [2, 4, 6, 8, 10]\n",
            "Impares:  [1, 3, 5, 7, 9]\n"
          ]
        }
      ]
    },
    {
      "cell_type": "code",
      "source": [
        "notas = [8,4,9,10,7,6,9,10,2,3,1,8,2,9]\n",
        "print(\"Aprobados: \", list(filter(lambda n: n>=6, notas)))\n",
        "print(\"Reprobados: \", list(filter(lambda n: n<6, notas)))"
      ],
      "metadata": {
        "id": "8z5CUK-idukw",
        "outputId": "2b220b3f-e9a0-4259-868b-50bc3ff64c7c",
        "colab": {
          "base_uri": "https://localhost:8080/"
        }
      },
      "execution_count": 10,
      "outputs": [
        {
          "output_type": "stream",
          "name": "stdout",
          "text": [
            "Aprobados:  [8, 9, 10, 7, 6, 9, 10, 8, 9]\n",
            "Reprobados:  [4, 2, 3, 1, 2]\n"
          ]
        }
      ]
    },
    {
      "cell_type": "markdown",
      "source": [
        "- REDUCE"
      ],
      "metadata": {
        "id": "gYtUR3IigB6N"
      }
    },
    {
      "cell_type": "code",
      "source": [
        "from functools import reduce\n",
        "numeros = [7,8,9,10]\n",
        "print(\"Suma: \", reduce(lambda n, acum: n+acum, numeros))"
      ],
      "metadata": {
        "id": "ld3jRRvGeasN",
        "outputId": "87740ddd-5075-45b5-d2e9-26a10253900a",
        "colab": {
          "base_uri": "https://localhost:8080/"
        }
      },
      "execution_count": 11,
      "outputs": [
        {
          "output_type": "stream",
          "name": "stdout",
          "text": [
            "Suma:  34\n"
          ]
        }
      ]
    },
    {
      "cell_type": "code",
      "source": [
        "numeros = [7,8,9,10, 1,5]\n",
        "print(\"Num Mayor: \", reduce(lambda n, mayor: n if n>mayor else mayor, numeros))\n",
        "print(\"Num Menor: \", reduce(lambda n, menor: n if n<menor else menor, numeros))"
      ],
      "metadata": {
        "id": "zRCfMK1eeclp",
        "outputId": "3a3befdf-453c-4079-b3c2-1c6ca81f7631",
        "colab": {
          "base_uri": "https://localhost:8080/"
        }
      },
      "execution_count": 14,
      "outputs": [
        {
          "output_type": "stream",
          "name": "stdout",
          "text": [
            "Num Mayor:  10\n",
            "Num Menor:  1\n"
          ]
        }
      ]
    },
    {
      "cell_type": "markdown",
      "source": [
        "**TUPLAS**"
      ],
      "metadata": {
        "id": "fkAX5Pr8gkYu"
      }
    },
    {
      "cell_type": "code",
      "source": [
        "numeros = (5,8,7,9,5,4,7)\n",
        "print(\"Tupla: \", numeros, \"Primer: \", numeros[0], \"Ultimo: \", numeros[-1], \"Rango: 2-6\", numeros[2:6])"
      ],
      "metadata": {
        "id": "Q79YpIL1gt6F",
        "outputId": "924a1033-9222-4d37-e9f3-57e63bd4b2fe",
        "colab": {
          "base_uri": "https://localhost:8080/"
        }
      },
      "execution_count": 15,
      "outputs": [
        {
          "output_type": "stream",
          "name": "stdout",
          "text": [
            "Tupla:  (5, 8, 7, 9, 5, 4, 7) Primer:  5 Ultimo:  7 Rango: 2-6 (7, 9, 5, 4)\n"
          ]
        }
      ]
    },
    {
      "cell_type": "code",
      "source": [
        "semana = (\"domingo\", \"lunes\", \"martes\", \"miercoles\", \"jueves\", \"viernes\", \"sabado\")\n",
        "print(\"Primer dia. \", semana[0], \"Cuantas veces repite domingo: \", semana.count(\"domingo\"), \"; dias de la semana: \", len(semana))"
      ],
      "metadata": {
        "id": "2i1fMNXahl_n",
        "outputId": "e3268555-d273-4e09-ff90-5fc644d3a406",
        "colab": {
          "base_uri": "https://localhost:8080/"
        }
      },
      "execution_count": 19,
      "outputs": [
        {
          "output_type": "stream",
          "name": "stdout",
          "text": [
            "Primer dia.  domingo Cuantas veces repite domingo:  1 ; dias de la semana:  7\n"
          ]
        }
      ]
    },
    {
      "cell_type": "code",
      "source": [
        "import datetime\n",
        "hoy = datetime.date.today()\n",
        "dia = hoy.day\n",
        "mes = hoy.month\n",
        "year = hoy.year\n",
        "dia_semana = hoy.isoweekday()\n",
        "\n",
        "semana = (\"domingo\", \"lunes\", \"martes\", \"miercoles\", \"jueves\", \"viernes\", \"sabado\")\n",
        "meses = (\"enero\", \"febrero\", \"marzo\", \"abril\", \"mayo\", \"junio\", \"julio\", \"agosto\", \"septiembre\", \"octubre\", \"noviembre\", \"diciembre\")\n",
        "\n",
        "print(\"Fecha: \", semana[dia_semana], dia, \"de \", meses[mes], \"del \", year)\n",
        "\n"
      ],
      "metadata": {
        "id": "izAKQUtCijE4",
        "outputId": "2db78b25-68f1-4f39-b47c-134acce6b52e",
        "colab": {
          "base_uri": "https://localhost:8080/"
        }
      },
      "execution_count": 25,
      "outputs": [
        {
          "output_type": "stream",
          "name": "stdout",
          "text": [
            "Fecha:  lunes 29 de  agosto del  2024\n"
          ]
        }
      ]
    },
    {
      "cell_type": "code",
      "source": [
        "tuplas = (\"Kim\",\"Alfredo\")\n",
        "#tuplas[0] = \"Pedro\" #Las tulas son inmutables, no puede cambiar su valor.\n",
        "print(tuplas)\n",
        "\n",
        "listas = [\"Kim\",\"Alfredo\"]\n",
        "listas[0] = \"Pedro\" #Las listas son mutables, si puede cambiar su valor.\n",
        "print(listas)"
      ],
      "metadata": {
        "id": "U9M9T0JClBEo",
        "outputId": "e78e74e4-8f28-4c3a-e456-c70be6a7c731",
        "colab": {
          "base_uri": "https://localhost:8080/"
        }
      },
      "execution_count": 27,
      "outputs": [
        {
          "output_type": "stream",
          "name": "stdout",
          "text": [
            "('Kim', 'Alfredo')\n",
            "['Pedro', 'Alfredo']\n"
          ]
        }
      ]
    },
    {
      "cell_type": "markdown",
      "source": [
        "**LISTAS**"
      ],
      "metadata": {
        "id": "CIQWzl05lxGD"
      }
    },
    {
      "cell_type": "code",
      "source": [
        "listas = [5,8,7,9, \"Kim\", \"Stanley\", \"Yulieth\"]\n",
        "print(listas, listas[-1])"
      ],
      "metadata": {
        "id": "RKI1hV7Jl0Ug",
        "outputId": "7f20b214-f288-49ad-877b-9e5336c23107",
        "colab": {
          "base_uri": "https://localhost:8080/"
        }
      },
      "execution_count": 28,
      "outputs": [
        {
          "output_type": "stream",
          "name": "stdout",
          "text": [
            "[5, 8, 7, 9, 'Kim', 'Stanley', 'Yulieth'] Yulieth\n"
          ]
        }
      ]
    },
    {
      "cell_type": "code",
      "source": [
        "def obtenerNota(nota, eval):\n",
        "  return eval[1]*0.3 + nota"
      ],
      "metadata": {
        "id": "YrLacVgom7XJ"
      },
      "execution_count": 51,
      "outputs": []
    },
    {
      "cell_type": "code",
      "source": [
        "matriz = [ [\"Lab1\", 8],[\"Lab2\", 9], [\"Parcial\", 8] ] #8*0.3=2.4 + 9*0.3=2.7 +8*0.3=2.4\n",
        "reduce(obtenerNota, matriz, 0)"
      ],
      "metadata": {
        "id": "tz5YE7FNmJ-j",
        "outputId": "76933f64-f479-43a2-c733-ece0f2d39450",
        "colab": {
          "base_uri": "https://localhost:8080/"
        }
      },
      "execution_count": 52,
      "outputs": [
        {
          "output_type": "execute_result",
          "data": {
            "text/plain": [
              "7.5"
            ]
          },
          "metadata": {},
          "execution_count": 52
        }
      ]
    }
  ]
}