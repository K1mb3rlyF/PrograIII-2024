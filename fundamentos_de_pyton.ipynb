{
  "nbformat": 4,
  "nbformat_minor": 0,
  "metadata": {
    "colab": {
      "provenance": [],
      "authorship_tag": "ABX9TyOJVyhuRkTJDOrh/UqDmglv",
      "include_colab_link": true
    },
    "kernelspec": {
      "name": "python3",
      "display_name": "Python 3"
    },
    "language_info": {
      "name": "python"
    }
  },
  "cells": [
    {
      "cell_type": "markdown",
      "metadata": {
        "id": "view-in-github",
        "colab_type": "text"
      },
      "source": [
        "<a href=\"https://colab.research.google.com/github/K1mb3rlyF/PrograIII-2024/blob/main/fundamentos_de_pyton.ipynb\" target=\"_parent\"><img src=\"https://colab.research.google.com/assets/colab-badge.svg\" alt=\"Open In Colab\"/></a>"
      ]
    },
    {
      "cell_type": "code",
      "execution_count": null,
      "metadata": {
        "colab": {
          "base_uri": "https://localhost:8080/"
        },
        "collapsed": true,
        "id": "jXVy3fpZ73z0",
        "outputId": "279c7f63-cd4c-473d-85fa-1c71b74a7f1f"
      },
      "outputs": [
        {
          "output_type": "stream",
          "name": "stdout",
          "text": [
            "Hola Kimberly Funes ,inicial:  K r\n"
          ]
        }
      ],
      "source": [
        "print(\"Hola Mundo\")\n",
        "nombre = \"Kimberly Funes\"\n",
        "\n",
        "print(\"Hola\", nombre, \",inicial: \", nombre[0], nombre[5])"
      ]
    },
    {
      "cell_type": "markdown",
      "source": [
        "EJERCICIO, crear un programa en pyton que sume dos numeros"
      ],
      "metadata": {
        "id": "VLCiMm-O9cEX"
      }
    },
    {
      "cell_type": "code",
      "source": [
        "num1 = 5\n",
        "num2 = 9.5\n",
        "resp = num1 + num2\n",
        "print(\"La suma es: \", resp)"
      ],
      "metadata": {
        "colab": {
          "base_uri": "https://localhost:8080/"
        },
        "collapsed": true,
        "id": "Q5mzenn49ZZl",
        "outputId": "1382de05-5ea1-4a1e-c297-ae0d93f4ea5c"
      },
      "execution_count": null,
      "outputs": [
        {
          "output_type": "stream",
          "name": "stdout",
          "text": [
            "La suma es:  14.5\n"
          ]
        }
      ]
    },
    {
      "cell_type": "markdown",
      "source": [
        "EJERCICIO, crear un programa en pyton que sume dos numeros introducidos por el usuario"
      ],
      "metadata": {
        "id": "aKoQvRED_M-t"
      }
    },
    {
      "cell_type": "code",
      "source": [
        "print(\"Num 1\")\n",
        "num1 = float(input())\n",
        "\n",
        "print(\"Num 2\")\n",
        "num2 = float(input())\n",
        "\n",
        "resp = num1 + num2\n",
        "print(\"La suma es: \", resp)"
      ],
      "metadata": {
        "colab": {
          "base_uri": "https://localhost:8080/"
        },
        "collapsed": true,
        "id": "UslIRGwU_Q5z",
        "outputId": "c770509b-3b60-4e37-84d1-4043eb496d76"
      },
      "execution_count": null,
      "outputs": [
        {
          "output_type": "stream",
          "name": "stdout",
          "text": [
            "Num 1\n",
            "9\n",
            "Num 2\n",
            "4.5\n",
            "La suma es:  13.5\n"
          ]
        }
      ]
    },
    {
      "cell_type": "code",
      "source": [
        "#Tipos de datos\n",
        "num1 = 5 #entero\n",
        "num2 = 5.9 #decimal\n",
        "nombre = \"Kimberly Funes\" #cadena\n",
        "print(nombre[0:8], nombre[:8], nombre[-1], nombre[9:len(nombre)])\n",
        "\n",
        "estado = True\n",
        "print(estado)\n",
        "\n",
        "print(type(nombre), type(num1), type(num2), type(estado) )\n"
      ],
      "metadata": {
        "colab": {
          "base_uri": "https://localhost:8080/"
        },
        "collapsed": true,
        "id": "UTDcRYbeCFQe",
        "outputId": "c22e7282-7853-49a3-f6da-1ab13e7b5ed3"
      },
      "execution_count": null,
      "outputs": [
        {
          "output_type": "stream",
          "name": "stdout",
          "text": [
            "Kimberly Kimberly s Funes\n",
            "True\n",
            "<class 'str'> <class 'int'> <class 'float'> <class 'bool'>\n"
          ]
        }
      ]
    },
    {
      "cell_type": "markdown",
      "source": [
        "EJERCICIO, crear un programa en pyton que lea un numero y determine si es par o impar."
      ],
      "metadata": {
        "id": "LjLZooL7Et10"
      }
    },
    {
      "cell_type": "code",
      "source": [
        "num = int(input(\"ingrese un numero: \"))\n",
        "if num % 2 == 0:\n",
        "  print(\"El numero es par\", num)\n",
        "else:\n",
        "  print(\"El numero es impar\")"
      ],
      "metadata": {
        "colab": {
          "base_uri": "https://localhost:8080/"
        },
        "id": "Xe5ZSy7hE0HF",
        "outputId": "08b75069-3fb1-41ed-f629-298a95f01712"
      },
      "execution_count": null,
      "outputs": [
        {
          "output_type": "stream",
          "name": "stdout",
          "text": [
            "ingrese un numero: 8\n",
            "El numero es par 8\n"
          ]
        }
      ]
    },
    {
      "cell_type": "markdown",
      "source": [
        "EJERCICIO: Uso de las funciones de usuario, con la suma de dos numeros."
      ],
      "metadata": {
        "id": "JZGPBVm6bQlu"
      }
    },
    {
      "cell_type": "code",
      "source": [
        "def suma(num1, num2):\n",
        "  return num1 + num2"
      ],
      "metadata": {
        "id": "jbGe_PB0odUY"
      },
      "execution_count": null,
      "outputs": []
    },
    {
      "cell_type": "code",
      "source": [
        "  num1 = float(input(\"Num1 : \"))\n",
        "  num2 = float(input(\"Num2 :\"))\n",
        "\n",
        "  resp = suma(num1, num2)\n",
        "  print(\"a suma es: \", resp)"
      ],
      "metadata": {
        "colab": {
          "base_uri": "https://localhost:8080/"
        },
        "collapsed": true,
        "id": "-VOZb-3hXa4w",
        "outputId": "6f9cf96c-8388-4820-bea2-b8a69f461722"
      },
      "execution_count": null,
      "outputs": [
        {
          "output_type": "stream",
          "name": "stdout",
          "text": [
            "Num1 : 5\n",
            "Num2 :9\n",
            "a suma es:  14.0\n"
          ]
        }
      ]
    },
    {
      "cell_type": "markdown",
      "source": [
        "EJERICIO: Converti grados celsius a farenheit, usando funciones de usuario."
      ],
      "metadata": {
        "id": "97FmB5lPoujy"
      }
    },
    {
      "cell_type": "code",
      "source": [
        "def convertir_cf(c):\n",
        "  return 32 + c*1.8"
      ],
      "metadata": {
        "id": "oMkEjKsPo6n5"
      },
      "execution_count": null,
      "outputs": []
    },
    {
      "cell_type": "code",
      "source": [
        "c = float(input(\"Celcius: \"))\n",
        "print(\"F: \", convertir_cf(c))"
      ],
      "metadata": {
        "colab": {
          "base_uri": "https://localhost:8080/"
        },
        "collapsed": true,
        "id": "REFhaMfRpRRA",
        "outputId": "f1fe922a-ebd6-4460-eec4-707ff6af9a29"
      },
      "execution_count": null,
      "outputs": [
        {
          "output_type": "stream",
          "name": "stdout",
          "text": [
            "Celcius: 33\n",
            "F:  91.4\n"
          ]
        }
      ]
    },
    {
      "cell_type": "markdown",
      "source": [
        "EJERCICIO: Determina si un numero es par o impar."
      ],
      "metadata": {
        "id": "rz8kuGXqrtTx"
      }
    },
    {
      "cell_type": "code",
      "source": [
        "def parImpar(num):\n",
        "  if(num%2==0):\n",
        "   return \"par\"\n",
        "  return \"impar\""
      ],
      "metadata": {
        "id": "zs1H97x7rsGL"
      },
      "execution_count": null,
      "outputs": []
    },
    {
      "cell_type": "code",
      "source": [
        "num = int(input(\"Num: \"))\n",
        "print(\"El numero \", num, \" es: \", parImpar(num))"
      ],
      "metadata": {
        "colab": {
          "base_uri": "https://localhost:8080/"
        },
        "id": "9DxgAFd4sd2Z",
        "outputId": "3482ec25-de89-49f9-c858-55434b6f5af8"
      },
      "execution_count": null,
      "outputs": [
        {
          "output_type": "stream",
          "name": "stdout",
          "text": [
            "Num: 9\n",
            "El numero  9  es:  impar\n"
          ]
        }
      ]
    },
    {
      "cell_type": "markdown",
      "source": [
        "**TAREA (MIERCOLES):**\n",
        "1.  Convertir grados Farenheits a Celsius.\n",
        "2.  Convertir grados [Celsius y Farenheit] a kelvin.\n",
        "\n",
        "\n"
      ],
      "metadata": {
        "id": "zqEoV-LXtjM4"
      }
    },
    {
      "cell_type": "markdown",
      "source": [
        "EJERCICIO 1: Convertir grados Farenheits a Celsius."
      ],
      "metadata": {
        "id": "t4rkaBovzjIy"
      }
    },
    {
      "cell_type": "code",
      "source": [
        "def convertir(f):\n",
        "  c =  (f-32) * 5/9\n",
        "  return c"
      ],
      "metadata": {
        "id": "jchBnCeIzePl"
      },
      "execution_count": null,
      "outputs": []
    },
    {
      "cell_type": "code",
      "source": [
        "  f = float(input(\"Ingresa los grados Farenheits: \"))\n",
        "  print(f\"La conversion a grados celsius es: {convertir(f)}\")"
      ],
      "metadata": {
        "colab": {
          "base_uri": "https://localhost:8080/"
        },
        "id": "bIWvfia117nC",
        "outputId": "b3b91c41-54bc-4125-c5f0-98a6e6fad341"
      },
      "execution_count": null,
      "outputs": [
        {
          "output_type": "stream",
          "name": "stdout",
          "text": [
            "Ingresa los grados Farenheits: 70\n",
            "La conversion a grados celsius es: 21.11111111111111\n"
          ]
        }
      ]
    },
    {
      "cell_type": "markdown",
      "source": [
        "EJERCICIO 2: Convertir grados [Celsius y Farenheit] a kelvin."
      ],
      "metadata": {
        "id": "Pc3sSUj91ZkO"
      }
    },
    {
      "cell_type": "code",
      "source": [
        "def celsius_a_kelvin(celsius):\n",
        "\n",
        "    kelvin = celsius + 273.15\n",
        "    return kelvin\n",
        "\n",
        "def fahrenheit_a_kelvin(fahrenheit):\n",
        "\n",
        "    celsius = (fahrenheit - 32) * 5.0/9.0\n",
        "    kelvin = celsius_a_kelvin(celsius)\n",
        "    return kelvin\n",
        "\n",
        "def convertir_a_kelvin():\n",
        "    f\n",
        "    opcion = input(\"Seleccione la temperatura para convertir a Kelvin (C para Celsius, F para Fahrenheit): \").strip().upper()\n",
        "\n",
        "    if opcion == 'C':\n",
        "        temperatura_celsius = float(input(\"Digite la temperatura en grados Celsius: \"))\n",
        "        temperatura_kelvin = celsius_a_kelvin(temperatura_celsius)\n",
        "        print(f\"{temperatura_celsius}°C es igual a {temperatura_kelvin:.2f} K\")\n",
        "    elif opcion == 'F':\n",
        "        temperatura_fahrenheit = float(input(\"Digite la temperatura en grados Fahrenheit: \"))\n",
        "        temperatura_kelvin = fahrenheit_a_kelvin(temperatura_fahrenheit)\n",
        "        print(f\"{temperatura_fahrenheit}°F es igual a {temperatura_kelvin:.2f} K\")\n",
        "    else:\n",
        "        print(\"ERROR. asegurese de elejir 'C' para Celsius o 'F' para Fahrenheit.\")\n",
        "\n",
        "\n",
        "convertir_a_kelvin()\n"
      ],
      "metadata": {
        "colab": {
          "base_uri": "https://localhost:8080/"
        },
        "id": "-H_rKibtzZeG",
        "outputId": "756d0325-72d6-40fc-f332-e56da0584fd6"
      },
      "execution_count": null,
      "outputs": [
        {
          "output_type": "stream",
          "name": "stdout",
          "text": [
            "Seleccione la temperatura para convertir a Kelvin (C para Celsius, F para Fahrenheit): c\n",
            "Digite la temperatura en grados Celsius: 30\n",
            "30.0°C es igual a 303.15 K\n"
          ]
        }
      ]
    },
    {
      "cell_type": "markdown",
      "source": [
        "EJERCICIO: Calcular el suelo de un trabajador."
      ],
      "metadata": {
        "id": "QVsRy3GAuNm0"
      }
    },
    {
      "cell_type": "code",
      "source": [
        "def sueldo(numHrs, valorXHrs):\n",
        "  sueldo = numHrs * valorXHrs * 30 # 10*1.5*30 = 450\n",
        "  if(numHrs>8):\n",
        "    sueldo = sueldo + (numHrs-8) * valorXHrs * 30 # 2*1.5*30 = 90\n",
        "  return sueldo"
      ],
      "metadata": {
        "id": "fkTQHkBAuV7a"
      },
      "execution_count": null,
      "outputs": []
    },
    {
      "cell_type": "code",
      "source": [
        "numHrs = int(input(\"Horas: \"))\n",
        "valorXHrs = float(input(\"Valor: \"))\n",
        "\n",
        "print(\"Sueldo: \", sueldo(numHrs, valorXHrs))"
      ],
      "metadata": {
        "colab": {
          "base_uri": "https://localhost:8080/"
        },
        "id": "FY__w3G9uDXB",
        "outputId": "603e4c94-e87b-4e44-e805-26021a15916e"
      },
      "execution_count": null,
      "outputs": [
        {
          "output_type": "stream",
          "name": "stdout",
          "text": [
            "Horas: 10\n",
            "Valor: 1.5\n",
            "Sueldo:  540.0\n"
          ]
        }
      ]
    },
    {
      "cell_type": "markdown",
      "source": [
        "EJERCICIO: elevar un numero al cuadrado."
      ],
      "metadata": {
        "id": "KYnxO7gW6Fu6"
      }
    },
    {
      "cell_type": "code",
      "source": [
        "def elevarCuadrado(base=0,exponente=2):\n",
        "  return base**exponente"
      ],
      "metadata": {
        "id": "CYmgJsKx6KyJ"
      },
      "execution_count": null,
      "outputs": []
    },
    {
      "cell_type": "code",
      "source": [
        "num = int(input(\"Num: \"))\n",
        "print(\"Cuadrado: \", elevarCuadrado(num, 3))"
      ],
      "metadata": {
        "id": "pP3oTx_W6VJb",
        "outputId": "f7e4a18e-f62c-4f9e-b6c9-d325ba4262d6",
        "colab": {
          "base_uri": "https://localhost:8080/"
        }
      },
      "execution_count": null,
      "outputs": [
        {
          "output_type": "stream",
          "name": "stdout",
          "text": [
            "Num: 4\n",
            "Cuadrado:  64\n"
          ]
        }
      ]
    },
    {
      "cell_type": "markdown",
      "source": [
        "USANDO FUNCIONES LAMBDA"
      ],
      "metadata": {
        "id": "bduTly6h8HmU"
      }
    },
    {
      "cell_type": "code",
      "source": [
        "elevarCuadradoLambda = lambda base, exponente: base**exponente"
      ],
      "metadata": {
        "id": "wKRwRGrO8Mwu"
      },
      "execution_count": null,
      "outputs": []
    },
    {
      "cell_type": "code",
      "source": [
        "valor = int(input(\"Num: \"))\n",
        "print(\"Cuadrado: \", elevarCuadradoLambda(valor, 2))"
      ],
      "metadata": {
        "id": "WTsPNUGz85_P",
        "outputId": "6233bd4d-3918-491c-8aa7-09d5ddf63b14",
        "colab": {
          "base_uri": "https://localhost:8080/"
        }
      },
      "execution_count": null,
      "outputs": [
        {
          "output_type": "stream",
          "name": "stdout",
          "text": [
            "Num: 3\n",
            "Cuadrado:  9\n"
          ]
        }
      ]
    },
    {
      "cell_type": "code",
      "source": [
        "serie = [5,4,3,2,6,7]\n",
        "resp = map(lambda x: x**2, serie)\n",
        "print(list(resp))\n",
        "\n",
        "resp2 = map(elevarCuadrado, serie)\n",
        "print(list(resp2))"
      ],
      "metadata": {
        "id": "CuVPlSh4_dOE",
        "outputId": "e1c06905-be77-4865-eb64-1bbeb8e96807",
        "colab": {
          "base_uri": "https://localhost:8080/"
        }
      },
      "execution_count": null,
      "outputs": [
        {
          "output_type": "stream",
          "name": "stdout",
          "text": [
            "[25, 16, 9, 4, 36, 49]\n",
            "[25, 16, 9, 4, 36, 49]\n"
          ]
        }
      ]
    },
    {
      "cell_type": "markdown",
      "source": [
        "EJERCICIO: Obtener la raiz cuadrada de una serie de numeros fijos."
      ],
      "metadata": {
        "id": "DDSlOWkmCvae"
      }
    },
    {
      "cell_type": "code",
      "source": [
        "def raizCuadrada(num):\n",
        "  return num**0.5"
      ],
      "metadata": {
        "id": "-44n--eQC9uv"
      },
      "execution_count": null,
      "outputs": []
    },
    {
      "cell_type": "code",
      "source": [
        "serie = [5,4,3,2,6,7]\n",
        "resp = map(raizCuadrada, serie)\n",
        "print(list(resp))"
      ],
      "metadata": {
        "id": "YeIMftWhDSjt",
        "outputId": "e26de696-c36e-4cde-d561-b5f8b7c75204",
        "colab": {
          "base_uri": "https://localhost:8080/"
        }
      },
      "execution_count": null,
      "outputs": [
        {
          "output_type": "stream",
          "name": "stdout",
          "text": [
            "[2.23606797749979, 2.0, 1.7320508075688772, 1.4142135623730951, 2.449489742783178, 2.6457513110645907]\n"
          ]
        }
      ]
    },
    {
      "cell_type": "markdown",
      "source": [
        "Ejercicios con funciones preconstruidas en pyton.:\n",
        "- MAP."
      ],
      "metadata": {
        "id": "KjjJiDCfbhc9"
      }
    },
    {
      "cell_type": "code",
      "source": [
        "numeros = [1,2,3,4,5,6,7,8,9]\n",
        "print (list(map(lambda n: n*2, numeros)))"
      ],
      "metadata": {
        "id": "Kh5f4DUZbr2D",
        "outputId": "b105b61e-f51b-44b5-d04e-86eae1077389",
        "colab": {
          "base_uri": "https://localhost:8080/"
        }
      },
      "execution_count": null,
      "outputs": [
        {
          "output_type": "stream",
          "name": "stdout",
          "text": [
            "[2, 4, 6, 8, 10, 12, 14, 16, 18]\n"
          ]
        }
      ]
    },
    {
      "cell_type": "code",
      "source": [
        "numeros = [1,2,3,4,5,6,7,8,9, 10]\n",
        "ntabla = int(input(\"Tabla: \"))\n",
        "print(list(map(lambda n: n*ntabla, numeros))) #tabla de multiplicar"
      ],
      "metadata": {
        "id": "cdDJu37yb-rH",
        "outputId": "4e9e1aad-6cc1-4c9b-fa6a-0fe95c9a8797",
        "colab": {
          "base_uri": "https://localhost:8080/"
        }
      },
      "execution_count": null,
      "outputs": [
        {
          "output_type": "stream",
          "name": "stdout",
          "text": [
            "Tabla: 7\n",
            "[7, 14, 21, 28, 35, 42, 49, 56, 63, 70]\n"
          ]
        }
      ]
    },
    {
      "cell_type": "markdown",
      "source": [
        "- FILTER"
      ],
      "metadata": {
        "id": "Oy36hXGbdD5R"
      }
    },
    {
      "cell_type": "code",
      "source": [
        "numeros = [1,2,3,4,5,6,7,8,9,10]\n",
        "print(\"Pares: \", list(filter(lambda n: n%2==0, numeros))) #Obtener solo los numeros pares.\n",
        "print(\"Impares: \", list(filter(lambda n: n%2!=0, numeros))) #Obtener los numeros impares.\n"
      ],
      "metadata": {
        "id": "3N9xaWprdHnE",
        "outputId": "7f761d69-22b5-4b80-bc29-2c02cadbfc8e",
        "colab": {
          "base_uri": "https://localhost:8080/"
        }
      },
      "execution_count": null,
      "outputs": [
        {
          "output_type": "stream",
          "name": "stdout",
          "text": [
            "Pares:  [2, 4, 6, 8, 10]\n",
            "Impares:  [1, 3, 5, 7, 9]\n"
          ]
        }
      ]
    },
    {
      "cell_type": "code",
      "source": [
        "notas = [8,4,9,10,7,6,9,10,2,3,1,8,2,9]\n",
        "print(\"Aprobados: \", list(filter(lambda n: n>=6, notas)))\n",
        "print(\"Reprobados: \", list(filter(lambda n: n<6, notas)))"
      ],
      "metadata": {
        "id": "8z5CUK-idukw",
        "outputId": "2b220b3f-e9a0-4259-868b-50bc3ff64c7c",
        "colab": {
          "base_uri": "https://localhost:8080/"
        }
      },
      "execution_count": null,
      "outputs": [
        {
          "output_type": "stream",
          "name": "stdout",
          "text": [
            "Aprobados:  [8, 9, 10, 7, 6, 9, 10, 8, 9]\n",
            "Reprobados:  [4, 2, 3, 1, 2]\n"
          ]
        }
      ]
    },
    {
      "cell_type": "markdown",
      "source": [
        "- REDUCE"
      ],
      "metadata": {
        "id": "gYtUR3IigB6N"
      }
    },
    {
      "cell_type": "code",
      "source": [
        "from functools import reduce\n",
        "numeros = [7,8,9,10]\n",
        "print(\"Suma: \", reduce(lambda n, acum: n+acum, numeros))"
      ],
      "metadata": {
        "id": "ld3jRRvGeasN",
        "outputId": "87740ddd-5075-45b5-d2e9-26a10253900a",
        "colab": {
          "base_uri": "https://localhost:8080/"
        }
      },
      "execution_count": null,
      "outputs": [
        {
          "output_type": "stream",
          "name": "stdout",
          "text": [
            "Suma:  34\n"
          ]
        }
      ]
    },
    {
      "cell_type": "code",
      "source": [
        "numeros = [7,8,9,10, 1,5]\n",
        "print(\"Num Mayor: \", reduce(lambda n, mayor: n if n>mayor else mayor, numeros))\n",
        "print(\"Num Menor: \", reduce(lambda n, menor: n if n<menor else menor, numeros))"
      ],
      "metadata": {
        "id": "zRCfMK1eeclp",
        "outputId": "3a3befdf-453c-4079-b3c2-1c6ca81f7631",
        "colab": {
          "base_uri": "https://localhost:8080/"
        }
      },
      "execution_count": null,
      "outputs": [
        {
          "output_type": "stream",
          "name": "stdout",
          "text": [
            "Num Mayor:  10\n",
            "Num Menor:  1\n"
          ]
        }
      ]
    },
    {
      "cell_type": "markdown",
      "source": [
        "**TUPLAS**"
      ],
      "metadata": {
        "id": "fkAX5Pr8gkYu"
      }
    },
    {
      "cell_type": "code",
      "source": [
        "numeros = (5,8,7,9,5,4,7)\n",
        "print(\"Tupla: \", numeros, \"Primer: \", numeros[0], \"Ultimo: \", numeros[-1], \"Rango: 2-6\", numeros[2:6])"
      ],
      "metadata": {
        "id": "Q79YpIL1gt6F",
        "outputId": "924a1033-9222-4d37-e9f3-57e63bd4b2fe",
        "colab": {
          "base_uri": "https://localhost:8080/"
        }
      },
      "execution_count": null,
      "outputs": [
        {
          "output_type": "stream",
          "name": "stdout",
          "text": [
            "Tupla:  (5, 8, 7, 9, 5, 4, 7) Primer:  5 Ultimo:  7 Rango: 2-6 (7, 9, 5, 4)\n"
          ]
        }
      ]
    },
    {
      "cell_type": "code",
      "source": [
        "semana = (\"domingo\", \"lunes\", \"martes\", \"miercoles\", \"jueves\", \"viernes\", \"sabado\")\n",
        "print(\"Primer dia. \", semana[0], \"Cuantas veces repite domingo: \", semana.count(\"domingo\"), \"; dias de la semana: \", len(semana))"
      ],
      "metadata": {
        "id": "2i1fMNXahl_n",
        "outputId": "e3268555-d273-4e09-ff90-5fc644d3a406",
        "colab": {
          "base_uri": "https://localhost:8080/"
        }
      },
      "execution_count": null,
      "outputs": [
        {
          "output_type": "stream",
          "name": "stdout",
          "text": [
            "Primer dia.  domingo Cuantas veces repite domingo:  1 ; dias de la semana:  7\n"
          ]
        }
      ]
    },
    {
      "cell_type": "code",
      "source": [
        "import datetime\n",
        "hoy = datetime.date.today()\n",
        "dia = hoy.day\n",
        "mes = hoy.month\n",
        "year = hoy.year\n",
        "dia_semana = hoy.isoweekday()\n",
        "\n",
        "semana = (\"domingo\", \"lunes\", \"martes\", \"miercoles\", \"jueves\", \"viernes\", \"sabado\")\n",
        "meses = (\"enero\", \"febrero\", \"marzo\", \"abril\", \"mayo\", \"junio\", \"julio\", \"agosto\", \"septiembre\", \"octubre\", \"noviembre\", \"diciembre\")\n",
        "\n",
        "print(\"Fecha: \", semana[dia_semana], dia, \"de \", meses[mes], \"del \", year)\n",
        "\n"
      ],
      "metadata": {
        "id": "izAKQUtCijE4",
        "outputId": "2db78b25-68f1-4f39-b47c-134acce6b52e",
        "colab": {
          "base_uri": "https://localhost:8080/"
        }
      },
      "execution_count": null,
      "outputs": [
        {
          "output_type": "stream",
          "name": "stdout",
          "text": [
            "Fecha:  lunes 29 de  agosto del  2024\n"
          ]
        }
      ]
    },
    {
      "cell_type": "code",
      "source": [
        "tuplas = (\"Kim\",\"Alfredo\")\n",
        "#tuplas[0] = \"Pedro\" #Las tulas son inmutables, no puede cambiar su valor.\n",
        "print(tuplas)\n",
        "\n",
        "listas = [\"Kim\",\"Alfredo\"]\n",
        "listas[0] = \"Pedro\" #Las listas son mutables, si puede cambiar su valor.\n",
        "print(listas)"
      ],
      "metadata": {
        "id": "U9M9T0JClBEo",
        "outputId": "e78e74e4-8f28-4c3a-e456-c70be6a7c731",
        "colab": {
          "base_uri": "https://localhost:8080/"
        }
      },
      "execution_count": null,
      "outputs": [
        {
          "output_type": "stream",
          "name": "stdout",
          "text": [
            "('Kim', 'Alfredo')\n",
            "['Pedro', 'Alfredo']\n"
          ]
        }
      ]
    },
    {
      "cell_type": "markdown",
      "source": [
        "**LISTAS**"
      ],
      "metadata": {
        "id": "CIQWzl05lxGD"
      }
    },
    {
      "cell_type": "code",
      "source": [
        "listas = [5,8,7,9, \"Kim\", \"Stanley\", \"Yulieth\"]\n",
        "print(listas, listas[-1])"
      ],
      "metadata": {
        "id": "RKI1hV7Jl0Ug",
        "outputId": "7f20b214-f288-49ad-877b-9e5336c23107",
        "colab": {
          "base_uri": "https://localhost:8080/"
        }
      },
      "execution_count": null,
      "outputs": [
        {
          "output_type": "stream",
          "name": "stdout",
          "text": [
            "[5, 8, 7, 9, 'Kim', 'Stanley', 'Yulieth'] Yulieth\n"
          ]
        }
      ]
    },
    {
      "cell_type": "code",
      "source": [
        "def obtenerNota(nota, eval):\n",
        "  return eval[1]*0.3 + nota"
      ],
      "metadata": {
        "id": "YrLacVgom7XJ"
      },
      "execution_count": null,
      "outputs": []
    },
    {
      "cell_type": "markdown",
      "source": [
        "**TAREA (MIERCOLES 21 agosto):**"
      ],
      "metadata": {
        "id": "b-oBshH7ULfK"
      }
    },
    {
      "cell_type": "markdown",
      "source": [
        " 1. **Calcular sobre el sueldo las deducciones por ley ISSS (3%), AFP(6.25%), ISR(Según tabla) e imprima el total deducciones y\n",
        "sueldo neto.**"
      ],
      "metadata": {
        "id": "kCAcK0MZG6VF"
      }
    },
    {
      "cell_type": "code",
      "source": [
        "def calcular_deducciones(sueldo_bruto):\n",
        "    # Deducción ISSS\n",
        "    iss = sueldo_bruto * 0.03  # 3% del sueldo bruto\n",
        "\n",
        "    # Deducción AFP\n",
        "    afp = sueldo_bruto * 0.0625  # 6.25% del sueldo bruto\n",
        "\n",
        "    # Deducción ISR\n",
        "    isr = sueldo_bruto * 0.00# 0% del sueldo bruto\n",
        "\n",
        "    # Calcular el total de deducciones\n",
        "    total_deducciones = iss + afp + isr\n",
        "\n",
        "    # Calcular el sueldo neto\n",
        "    sueldo_neto = sueldo_bruto - total_deducciones\n",
        "\n",
        "    return iss, afp, isr, total_deducciones, sueldo_neto\n",
        "\n",
        "# Ejemplo de uso\n",
        "sueldo_bruto = float(input(\"Ingrese el sueldo bruto: \"))\n",
        "iss, afp, isr, total_deducciones, sueldo_neto = calcular_deducciones(sueldo_bruto)\n",
        "\n",
        "print(f\"Deducción ISSS: ${iss:.2f}\")\n",
        "print(f\"Deducción AFP: ${afp:.2f}\")\n",
        "print(f\"Deducción ISR: ${isr:.2f}\")\n",
        "print(f\"Total de deducciones: ${total_deducciones:.2f}\")\n",
        "print(f\"Sueldo neto: ${sueldo_neto:.2f}\")"
      ],
      "metadata": {
        "id": "P0mRzecwHBxG"
      },
      "execution_count": null,
      "outputs": []
    },
    {
      "cell_type": "markdown",
      "source": [
        "2. **Calcular el valor a pagar según el número de metros consumidos de agua potable (Ver tabla en la siguiente diapositiva).**\n"
      ],
      "metadata": {
        "id": "kkr1K1qsHIca"
      }
    },
    {
      "cell_type": "code",
      "source": [
        "def calcular_valor_pagar(mts_consumidos):\n",
        "    if mts_consumidos <= 18:\n",
        "        # Cuota fija para hasta 18 metros\n",
        "        valor = 6\n",
        "    elif 19 <= mts_consumidos <= 28:\n",
        "        # Calculo para el exceso de 18 metros\n",
        "        exceso = mts_consumidos - 18\n",
        "        valor = 6 + (exceso * 0.45)\n",
        "    elif mts_consumidos >= 29:\n",
        "        # Calculo para el exceso de 28 metros\n",
        "        exceso_primero = 28 - 18\n",
        "        exceso_segundo = mts_consumidos - 28\n",
        "        valor = 6 + (exceso_primero * 0.45) + (exceso_segundo * 0.65)\n",
        "    else:\n",
        "        # En caso de un valor fuera de rango (aunque no debería suceder según la descripción)\n",
        "        valor = 0\n",
        "\n",
        "    return valor\n",
        "\n",
        "# Ejemplo de uso\n",
        "mts_consumidos = float(input(\"Ingrese los metros consumidos: \"))\n",
        "valor_a_pagar = calcular_valor_pagar(mts_consumidos)\n",
        "\n",
        "print(f\"Valor a pagar: ${valor_a_pagar:.2f}\")"
      ],
      "metadata": {
        "id": "F-qHnwdVHWJL"
      },
      "execution_count": null,
      "outputs": []
    },
    {
      "cell_type": "markdown",
      "source": [
        "3. **Desarrolle la tabla de meses acumulados a n meses. Si puede encontrar la fórmula matemática para evitar ciclos.**"
      ],
      "metadata": {
        "id": "QZ_bs_-wHcpf"
      }
    },
    {
      "cell_type": "code",
      "source": [
        "def calcular_acumulacion(meses):\n",
        "    acumulaciones = []\n",
        "    for mes in range(1, meses + 1):\n",
        "        total_acumulado = mes * (mes + 1) // 2\n",
        "        acumulaciones.append(total_acumulado)\n",
        "    return acumulaciones\n",
        "\n",
        "# Ejemplo de uso\n",
        "num_meses = int(input(\"Ingrese el número de meses: \"))\n",
        "tabla_acumulacion = calcular_acumulacion(num_meses)\n",
        "\n",
        "# Imprimir la tabla\n",
        "print(\"MES\\tACUMULACION\")\n",
        "for mes, acumulacion in enumerate(tabla_acumulacion, start=1):\n",
        "    print(f\"{mes}\\t${acumulacion}\")"
      ],
      "metadata": {
        "id": "gXAXPnKsHj9Z"
      },
      "execution_count": null,
      "outputs": []
    },
    {
      "cell_type": "markdown",
      "source": [
        "4. **Conversores:(10 ítems como mínimo por cada uno)**\n",
        "\n",
        "• Monedas\n",
        "\n",
        "• Longitud\n",
        "\n",
        "• Masa\n",
        "\n",
        "• Almacenamiento\n",
        "\n",
        "• Tiempo\n",
        "\n",
        "• Volumen\n",
        "\n",
        "• Área"
      ],
      "metadata": {
        "id": "I0IQuXDpHo0u"
      }
    },
    {
      "cell_type": "markdown",
      "source": [
        "**MONEDAS**\n"
      ],
      "metadata": {
        "id": "SkRdobsQZTi7"
      }
    },
    {
      "cell_type": "code",
      "source": [
        "monedas = {\n",
        "    1: {\"nombre\": \"Dólares\", \"tasa\": 1.0},\n",
        "    2: {\"nombre\": \"Euros\", \"tasa\": 0.84},\n",
        "    3: {\"nombre\": \"Yenes\", \"tasa\": 109.87},\n",
        "    4: {\"nombre\": \"Wones\", \"tasa\": 1200.0},\n",
        "    5: {\"nombre\": \"Libras\", \"tasa\": 0.76},\n",
        "    6: {\"nombre\": \"Francos suizos\", \"tasa\": 0.92},\n",
        "    7: {\"nombre\": \"Dólares canadienses\", \"tasa\": 1.32},\n",
        "    8: {\"nombre\": \"Dólares australianos\", \"tasa\": 1.48},\n",
        "    9: {\"nombre\": \"Rupias indias\", \"tasa\": 74.83},\n",
        "    10: {\"nombre\": \"Yuanes chinos\", \"tasa\": 6.89}\n",
        "}\n",
        "\n",
        "def convertir_monedas():\n",
        "    print(\"Conversor de monedas\")\n",
        "    print(\"--------------------\")\n",
        "    print(\"1. Dólares\")\n",
        "    print(\"2. Euros\")\n",
        "    print(\"3. Yenes\")\n",
        "    print(\"4. Wones\")\n",
        "    print(\"5. Libras\")\n",
        "    print(\"6. Francos suizos\")\n",
        "    print(\"7. Dólares canadienses\")\n",
        "    print(\"8. Dólares australianos\")\n",
        "    print(\"9. Rupias indias\")\n",
        "    print(\"10. Yuanes chinos\")\n",
        "\n",
        "    # Pedimos la moneda original y la moneda a convertir\n",
        "    moneda_original = int(input(\"Ingrese el número de la moneda original: \"))\n",
        "    moneda_convertir = int(input(\"Ingrese el número de la moneda a convertir: \"))\n",
        "\n",
        "    # Pedimos la cantidad a convertir\n",
        "    cantidad = float(input(\"Ingrese la cantidad a convertir: \"))\n",
        "\n",
        "    # Realizamos la conversión\n",
        "    tasa_original = monedas[moneda_original][\"tasa\"]\n",
        "    tasa_convertir = monedas[moneda_convertir][\"tasa\"]\n",
        "    resultado = cantidad / tasa_original * tasa_convertir\n",
        "\n",
        "    # Mostramos el resultado\n",
        "    print(f\"{cantidad} {monedas[moneda_original]['nombre']} son {resultado} {monedas[moneda_convertir]['nombre']}\")\n",
        "\n",
        "convertir_monedas()\n"
      ],
      "metadata": {
        "id": "S9MltFjRZY3R",
        "outputId": "e40b4a05-3a4b-424e-cb0b-a74f2cc66d09",
        "colab": {
          "base_uri": "https://localhost:8080/"
        }
      },
      "execution_count": null,
      "outputs": [
        {
          "output_type": "stream",
          "name": "stdout",
          "text": [
            "Conversor de monedas\n",
            "--------------------\n",
            "1. Dólares\n",
            "2. Euros\n",
            "3. Yenes\n",
            "4. Wones\n",
            "5. Libras\n",
            "6. Francos suizos\n",
            "7. Dólares canadienses\n",
            "8. Dólares australianos\n",
            "9. Rupias indias\n",
            "10. Yuanes chinos\n",
            "Ingrese el número de la moneda original: 3\n",
            "Ingrese el número de la moneda a convertir: 4\n",
            "Ingrese la cantidad a convertir: 8\n",
            "8.0 Yenes son 87.37598980613453 Wones\n"
          ]
        }
      ]
    },
    {
      "cell_type": "markdown",
      "source": [
        "**LONGITUD**"
      ],
      "metadata": {
        "id": "yyv0wmEPbU1M"
      }
    },
    {
      "cell_type": "code",
      "source": [
        "unidades_longitud = {\n",
        "    1: {\"nombre\": \"Metro\", \"conversion\": 1.0},\n",
        "    2: {\"nombre\": \"Centímetro\", \"conversion\": 0.01},\n",
        "    3: {\"nombre\": \"Milímetro\", \"conversion\": 0.001},\n",
        "    4: {\"nombre\": \"Kilómetro\", \"conversion\": 1000.0},\n",
        "    5: {\"nombre\": \"Pulgada\", \"conversion\": 0.0254},\n",
        "    6: {\"nombre\": \"Pie\", \"conversion\": 0.3048},\n",
        "    7: {\"nombre\": \"Yarda\", \"conversion\": 0.9144},\n",
        "    8: {\"nombre\": \"Milla\", \"conversion\": 1609.34},\n",
        "    9: {\"nombre\": \"Micrómetro\", \"conversion\": 0.000001},\n",
        "    10: {\"nombre\": \"Nanómetro\", \"conversion\": 0.000000001}\n",
        "}\n",
        "\n",
        "def convertir_longitud():\n",
        "    print(\"Conversor de longitud\")\n",
        "    print(\"--------------------\")\n",
        "    print(\"1. Metro\")\n",
        "    print(\"2. Centímetro\")\n",
        "    print(\"3. Milímetro\")\n",
        "    print(\"4. Kilómetro\")\n",
        "    print(\"5. Pulgada\")\n",
        "    print(\"6. Pie\")\n",
        "    print(\"7. Yarda\")\n",
        "    print(\"8. Milla\")\n",
        "    print(\"9. Micrómetro\")\n",
        "    print(\"10. Nanómetro\")\n",
        "\n",
        "    # Pedimos la unidad de longitud original y la unidad a convertir\n",
        "    unidad_original = int(input(\"Ingrese el número de la unidad de longitud original: \"))\n",
        "    unidad_convertir = int(input(\"Ingrese el número de la unidad de longitud a convertir: \"))\n",
        "\n",
        "    # Pedimos la cantidad a convertir\n",
        "    cantidad = float(input(\"Ingrese la cantidad a convertir: \"))\n",
        "\n",
        "    # Realizamos la conversión\n",
        "    conversion_original = unidades_longitud[unidad_original][\"conversion\"]\n",
        "    conversion_convertir = unidades_longitud[unidad_convertir][\"conversion\"]\n",
        "    resultado = cantidad * conversion_original / conversion_convertir\n",
        "\n",
        "    # Mostramos el resultado\n",
        "    print(f\"{cantidad} {unidades_longitud[unidad_original]['nombre']} son {resultado} {unidades_longitud[unidad_convertir]['nombre']}\")\n",
        "\n",
        "convertir_longitud()"
      ],
      "metadata": {
        "id": "47U8EETzbd_r",
        "outputId": "20e3fe93-9d79-4d26-f5d2-4217b2a9fb53",
        "colab": {
          "base_uri": "https://localhost:8080/"
        }
      },
      "execution_count": null,
      "outputs": [
        {
          "output_type": "stream",
          "name": "stdout",
          "text": [
            "Conversor de longitud\n",
            "--------------------\n",
            "1. Metro\n",
            "2. Centímetro\n",
            "3. Milímetro\n",
            "4. Kilómetro\n",
            "5. Pulgada\n",
            "6. Pie\n",
            "7. Yarda\n",
            "8. Milla\n",
            "9. Micrómetro\n",
            "10. Nanómetro\n",
            "Ingrese el número de la unidad de longitud original: 1\n",
            "Ingrese el número de la unidad de longitud a convertir: 2\n",
            "Ingrese la cantidad a convertir: 5\n",
            "5.0 Metro son 500.0 Centímetro\n"
          ]
        }
      ]
    },
    {
      "cell_type": "markdown",
      "source": [
        "**MASA**\n"
      ],
      "metadata": {
        "id": "SAOvryh6bedJ"
      }
    },
    {
      "cell_type": "code",
      "source": [
        "unidades_masa = {\n",
        "    1: {\"nombre\": \"Gramo\", \"conversion\": 1.0},\n",
        "    2: {\"nombre\": \"Kilogramo\", \"conversion\": 1000.0},\n",
        "    3: {\"nombre\": \"Tonelada\", \"conversion\": 1000000.0},\n",
        "    4: {\"nombre\": \"Libra\", \"conversion\": 453.592},\n",
        "    5: {\"nombre\": \"Onza\", \"conversion\": 28.3495},\n",
        "    6: {\"nombre\": \"Miligramo\", \"conversion\": 0.001},\n",
        "    7: {\"nombre\": \"Microgramo\", \"conversion\": 0.000001},\n",
        "    8: {\"nombre\": \"Nanoogramo\", \"conversion\": 0.000000001},\n",
        "    9: {\"nombre\": \"Stone\", \"conversion\": 6350.29},\n",
        "    10: {\"nombre\": \"Pound\", \"conversion\": 453.592}\n",
        "}\n",
        "\n",
        "def convertir_masa():\n",
        "    print(\"Conversor de masa\")\n",
        "    print(\"--------------------\")\n",
        "    print(\"1. Gramo\")\n",
        "    print(\"2. Kilogramo\")\n",
        "    print(\"3. Tonelada\")\n",
        "    print(\"4. Libra\")\n",
        "    print(\"5. Onza\")\n",
        "    print(\"6. Miligramo\")\n",
        "    print(\"7. Microgramo\")\n",
        "    print(\"8. Nanoogramo\")\n",
        "    print(\"9. Stone\")\n",
        "    print(\"10. Pound\")\n",
        "\n",
        "    # Pedimos la unidad de masa original y la unidad a convertir\n",
        "    unidad_original = int(input(\"Ingrese el número de la unidad de masa original: \"))\n",
        "    unidad_convertir = int(input(\"Ingrese el número de la unidad de masa a convertir: \"))\n",
        "\n",
        "    # Pedimos la cantidad a convertir\n",
        "    cantidad = float(input(\"Ingrese la cantidad a convertir: \"))\n",
        "\n",
        "    # Realizamos la conversión\n",
        "    conversion_original = unidades_masa[unidad_original][\"conversion\"]\n",
        "    conversion_convertir = unidades_masa[unidad_convertir][\"conversion\"]\n",
        "    resultado = cantidad * conversion_original / conversion_convertir\n",
        "\n",
        "    # Mostramos el resultado\n",
        "    print(f\"{cantidad} {unidades_masa[unidad_original]['nombre']} son {resultado} {unidades_masa[unidad_convertir]['nombre']}\")\n",
        "\n",
        "convertir_masa()"
      ],
      "metadata": {
        "id": "Tby5hFokbquN",
        "outputId": "814eb090-9f14-4805-d14a-a698a0086511",
        "colab": {
          "base_uri": "https://localhost:8080/"
        }
      },
      "execution_count": null,
      "outputs": [
        {
          "output_type": "stream",
          "name": "stdout",
          "text": [
            "Conversor de masa\n",
            "--------------------\n",
            "1. Gramo\n",
            "2. Kilogramo\n",
            "3. Tonelada\n",
            "4. Libra\n",
            "5. Onza\n",
            "6. Miligramo\n",
            "7. Microgramo\n",
            "8. Nanoogramo\n",
            "9. Stone\n",
            "10. Pound\n",
            "Ingrese el número de la unidad de masa original: 1\n",
            "Ingrese el número de la unidad de masa a convertir: 4\n",
            "Ingrese la cantidad a convertir: 5\n",
            "5.0 Gramo son 0.011023122100918888 Libra\n"
          ]
        }
      ]
    },
    {
      "cell_type": "markdown",
      "source": [
        "**ALMACENAMIENTO**"
      ],
      "metadata": {
        "id": "B0TwDtmlbrMc"
      }
    },
    {
      "cell_type": "code",
      "source": [
        "unidades_almacenamiento = {\n",
        "    1: {\"nombre\": \"Byte\", \"conversion\": 1.0},\n",
        "    2: {\"nombre\": \"Kilobyte\", \"conversion\": 1024.0},\n",
        "    3: {\"nombre\": \"Megabyte\", \"conversion\": 1048576.0},\n",
        "    4: {\"nombre\": \"Gigabyte\", \"conversion\": 1073741824.0},\n",
        "    5: {\"nombre\": \"Terabyte\", \"conversion\": 1099511627776.0},\n",
        "    6: {\"nombre\": \"Petabyte\", \"conversion\": 1125899906842624.0},\n",
        "    7: {\"nombre\": \"Exabyte\", \"conversion\": 1152921504606846976.0},\n",
        "    8: {\"nombre\": \"Zettabyte\", \"conversion\": 1180591620717411303424.0},\n",
        "    9: {\"nombre\": \"Yottabyte\", \"conversion\": 1208925813757760000000000.0},\n",
        "    10: {\"nombre\": \"Bit\", \"conversion\": 0.125}\n",
        "}\n",
        "\n",
        "def convertir_almacenamiento():\n",
        "    print(\"Conversor de almacenamiento\")\n",
        "    print(\"---------------------------\")\n",
        "    print(\"1. Byte\")\n",
        "    print(\"2. Kilobyte\")\n",
        "    print(\"3. Megabyte\")\n",
        "    print(\"4. Gigabyte\")\n",
        "    print(\"5. Terabyte\")\n",
        "    print(\"6. Petabyte\")\n",
        "    print(\"7. Exabyte\")\n",
        "    print(\"8. Zettabyte\")\n",
        "    print(\"9. Yottabyte\")\n",
        "    print(\"10. Bit\")\n",
        "\n",
        "    # Pedimos la unidad de almacenamiento original y la unidad a convertir\n",
        "    unidad_original = int(input(\"Ingrese el número de la unidad de almacenamiento original: \"))\n",
        "    unidad_convertir = int(input(\"Ingrese el número de la unidad de almacenamiento a convertir: \"))\n",
        "\n",
        "    # Pedimos la cantidad a convertir\n",
        "    cantidad = float(input(\"Ingrese la cantidad a convertir: \"))\n",
        "\n",
        "    # Realizamos la conversión\n",
        "    conversion_original = unidades_almacenamiento[unidad_original][\"conversion\"]\n",
        "    conversion_convertir = unidades_almacenamiento[unidad_convertir][\"conversion\"]\n",
        "    resultado = cantidad * conversion_original / conversion_convertir\n",
        "\n",
        "    # Mostramos el resultado\n",
        "    print(f\"{cantidad} {unidades_almacenamiento[unidad_original]['nombre']} son {resultado} {unidades_almacenamiento[unidad_convertir]['nombre']}\")\n",
        "\n",
        "convertir_almacenamiento()"
      ],
      "metadata": {
        "id": "5syBV4i6byNv",
        "outputId": "c92e08c4-9ace-47ee-947f-4d81f32cb00b",
        "colab": {
          "base_uri": "https://localhost:8080/"
        }
      },
      "execution_count": null,
      "outputs": [
        {
          "output_type": "stream",
          "name": "stdout",
          "text": [
            "Conversor de almacenamiento\n",
            "---------------------------\n",
            "1. Byte\n",
            "2. Kilobyte\n",
            "3. Megabyte\n",
            "4. Gigabyte\n",
            "5. Terabyte\n",
            "6. Petabyte\n",
            "7. Exabyte\n",
            "8. Zettabyte\n",
            "9. Yottabyte\n",
            "10. Bit\n",
            "Ingrese el número de la unidad de almacenamiento original: 4\n",
            "Ingrese el número de la unidad de almacenamiento a convertir: 3\n",
            "Ingrese la cantidad a convertir: 3\n",
            "3.0 Gigabyte son 3072.0 Megabyte\n"
          ]
        }
      ]
    },
    {
      "cell_type": "markdown",
      "source": [
        "**TIEMPO**"
      ],
      "metadata": {
        "id": "LanTkBNBbyir"
      }
    },
    {
      "cell_type": "code",
      "source": [
        "unidades_tiempo = {\n",
        "    1: {\"nombre\": \"Segundo\", \"conversion\": 1.0},\n",
        "    2: {\"nombre\": \"Minuto\", \"conversion\": 60.0},\n",
        "    3: {\"nombre\": \"Hora\", \"conversion\": 3600.0},\n",
        "    4: {\"nombre\": \"Día\", \"conversion\": 86400.0},\n",
        "    5: {\"nombre\": \"Semana\", \"conversion\": 604800.0},\n",
        "    6: {\"nombre\": \"Mes\", \"conversion\": 2629800.0},\n",
        "    7: {\"nombre\": \"Año\", \"conversion\": 31557600.0},\n",
        "    8: {\"nombre\": \"Milisegundo\", \"conversion\": 0.001},\n",
        "    9: {\"nombre\": \"Microsegundo\", \"conversion\": 0.000001},\n",
        "    10: {\"nombre\": \"Nanosegundo\", \"conversion\": 0.000000001}\n",
        "}\n",
        "\n",
        "def convertir_tiempo():\n",
        "    print(\"Conversor de tiempo\")\n",
        "    print(\"------------------\")\n",
        "    print(\"1. Segundo\")\n",
        "    print(\"2. Minuto\")\n",
        "    print(\"3. Hora\")\n",
        "    print(\"4. Día\")\n",
        "    print(\"5. Semana\")\n",
        "    print(\"6. Mes\")\n",
        "    print(\"7. Año\")\n",
        "    print(\"8. Milisegundo\")\n",
        "    print(\"9. Microsegundo\")\n",
        "    print(\"10. Nanosegundo\")\n",
        "\n",
        "    # Pedimos la unidad de tiempo original y la unidad a convertir\n",
        "    unidad_original = int(input(\"Ingrese el número de la unidad de tiempo original: \"))\n",
        "    unidad_convertir = int(input(\"Ingrese el número de la unidad de tiempo a convertir: \"))\n",
        "\n",
        "    # Pedimos la cantidad a convertir\n",
        "    cantidad = float(input(\"Ingrese la cantidad a convertir: \"))\n",
        "\n",
        "    # Realizamos la conversión\n",
        "    conversion_original = unidades_tiempo[unidad_original][\"conversion\"]\n",
        "    conversion_convertir = unidades_tiempo[unidad_convertir][\"conversion\"]\n",
        "    resultado = cantidad * conversion_original / conversion_convertir\n",
        "\n",
        "    # Mostramos el resultado\n",
        "    print(f\"{cantidad} {unidades_tiempo[unidad_original]['nombre']} son {resultado} {unidades_tiempo[unidad_convertir]['nombre']}\")\n",
        "\n",
        "convertir_tiempo()"
      ],
      "metadata": {
        "id": "WRV6o7n_b4XD",
        "outputId": "1e1d9462-33d4-431d-9827-35457b9d864d",
        "colab": {
          "base_uri": "https://localhost:8080/"
        }
      },
      "execution_count": null,
      "outputs": [
        {
          "output_type": "stream",
          "name": "stdout",
          "text": [
            "Conversor de tiempo\n",
            "------------------\n",
            "1. Segundo\n",
            "2. Minuto\n",
            "3. Hora\n",
            "4. Día\n",
            "5. Semana\n",
            "6. Mes\n",
            "7. Año\n",
            "8. Milisegundo\n",
            "9. Microsegundo\n",
            "10. Nanosegundo\n",
            "Ingrese el número de la unidad de tiempo original: 3\n",
            "Ingrese el número de la unidad de tiempo a convertir: 2\n",
            "Ingrese la cantidad a convertir: 1\n",
            "1.0 Hora son 60.0 Minuto\n"
          ]
        }
      ]
    },
    {
      "cell_type": "markdown",
      "source": [
        "**VOLUMEN**"
      ],
      "metadata": {
        "id": "vPRbjFgwb5NO"
      }
    },
    {
      "cell_type": "code",
      "source": [
        "unidades_volumen = {\n",
        "    1: {\"nombre\": \"Mililitro\", \"conversion\": 1.0},\n",
        "    2: {\"nombre\": \"Litro\", \"conversion\": 1000.0},\n",
        "    3: {\"nombre\": \"Galón\", \"conversion\": 3785.41},\n",
        "    4: {\"nombre\": \"Pinta\", \"conversion\": 568.26},\n",
        "    5: {\"nombre\": \"Onza líquida\", \"conversion\": 29.57},\n",
        "    6: {\"nombre\": \"Cubic centímetro\", \"conversion\": 1.0},\n",
        "    7: {\"nombre\": \"Cubic metro\", \"conversion\": 1000000.0},\n",
        "    8: {\"nombre\": \"Barril\", \"conversion\": 158.9873},\n",
        "    9: {\"nombre\": \"Pulgada cúbica\", \"conversion\": 16.3871},\n",
        "    10: {\"nombre\": \"Pie cúbico\", \"conversion\": 28316.85}\n",
        "}\n",
        "\n",
        "def convertir_volumen():\n",
        "    print(\"Conversor de volumen\")\n",
        "    print(\"------------------\")\n",
        "    print(\"1. Mililitro\")\n",
        "    print(\"2. Litro\")\n",
        "    print(\"3. Galón\")\n",
        "    print(\"4. Pinta\")\n",
        "    print(\"5. Onza líquida\")\n",
        "    print(\"6. Cubic centímetro\")\n",
        "    print(\"7. Cubic metro\")\n",
        "    print(\"8. Barril\")\n",
        "    print(\"9. Pulgada cúbica\")\n",
        "    print(\"10. Pie cúbico\")\n",
        "\n",
        "    # Pedimos la unidad de volumen original y la unidad a convertir\n",
        "    unidad_original = int(input(\"Ingrese el número de la unidad de volumen original: \"))\n",
        "    unidad_convertir = int(input(\"Ingrese el número de la unidad de volumen a convertir: \"))\n",
        "\n",
        "    # Pedimos la cantidad a convertir\n",
        "    cantidad = float(input(\"Ingrese la cantidad a convertir: \"))\n",
        "\n",
        "    # Realizamos la conversión\n",
        "    conversion_original = unidades_volumen[unidad_original][\"conversion\"]\n",
        "    conversion_convertir = unidades_volumen[unidad_convertir][\"conversion\"]\n",
        "    resultado = cantidad * conversion_original / conversion_convertir\n",
        "\n",
        "    # Mostramos el resultado\n",
        "    print(f\"{cantidad} {unidades_volumen[unidad_original]['nombre']} son {resultado} {unidades_volumen[unidad_convertir]['nombre']}\")\n",
        "\n",
        "convertir_volumen()"
      ],
      "metadata": {
        "id": "0iC0WQ5Sb_PV",
        "outputId": "58e077af-20a7-4837-d408-a216da14ebd4",
        "colab": {
          "base_uri": "https://localhost:8080/"
        }
      },
      "execution_count": null,
      "outputs": [
        {
          "output_type": "stream",
          "name": "stdout",
          "text": [
            "Conversor de volumen\n",
            "------------------\n",
            "1. Mililitro\n",
            "2. Litro\n",
            "3. Galón\n",
            "4. Pinta\n",
            "5. Onza líquida\n",
            "6. Cubic centímetro\n",
            "7. Cubic metro\n",
            "8. Barril\n",
            "9. Pulgada cúbica\n",
            "10. Pie cúbico\n",
            "Ingrese el número de la unidad de volumen original: 3\n",
            "Ingrese el número de la unidad de volumen a convertir: 2\n",
            "Ingrese la cantidad a convertir: 3\n",
            "3.0 Galón son 11.35623 Litro\n"
          ]
        }
      ]
    },
    {
      "cell_type": "markdown",
      "source": [
        "\n",
        "**ÁREAS**"
      ],
      "metadata": {
        "id": "Dy48N6GJb_qZ"
      }
    },
    {
      "cell_type": "code",
      "source": [
        "unidades_area = {\n",
        "    1: {\"nombre\": \"Lote\", \"conversion\": 100.0},  # 100 metros cuadrados\n",
        "    2: {\"nombre\": \"Tarea\", \"conversion\": 435.6},  # 435.6 metros cuadrados\n",
        "    3: {\"nombre\": \"Manzana\", \"conversion\": 7093.41},  # 7093.41 metros cuadrados\n",
        "    4: {\"nombre\": \"Hectárea\", \"conversion\": 10000.0},  # 10,000 metros cuadrados\n",
        "    5: {\"nombre\": \"Acre\", \"conversion\": 4046.86},  # 4046.86 metros cuadrados\n",
        "    6: {\"nombre\": \"Kilómetro cuadrado\", \"conversion\": 1000000.0},  # 1,000,000 metros cuadrados\n",
        "    7: {\"nombre\": \"Milla cuadrada\", \"conversion\": 2599999.99},  # 2,599,999 metros cuadrados\n",
        "    8: {\"nombre\": \"Centiárea\", \"conversion\": 1.0},  # 1 metro cuadrado\n",
        "    9: {\"nombre\": \"Decímetro cuadrado\", \"conversion\": 0.01},  # 0.01 metros cuadrados\n",
        "    10: {\"nombre\": \"Metro cuadrado\", \"conversion\": 1.0}  # 1 metro cuadrado\n",
        "}\n",
        "\n",
        "def convertir_area():\n",
        "    print(\"Conversor de área\")\n",
        "    print(\"------------------\")\n",
        "    print(\"1. Lote\")\n",
        "    print(\"2. Tarea\")\n",
        "    print(\"3. Manzana\")\n",
        "    print(\"4. Hectárea\")\n",
        "    print(\"5. Acre\")\n",
        "    print(\"6. Kilómetro cuadrado\")\n",
        "    print(\"7. Milla cuadrada\")\n",
        "    print(\"8. Centiárea\")\n",
        "    print(\"9. Decímetro cuadrado\")\n",
        "    print(\"10. Metro cuadrado\")\n",
        "\n",
        "    # Pedimos la unidad de área original y la unidad a convertir\n",
        "    unidad_original = int(input(\"Ingrese el número de la unidad de área original: \"))\n",
        "    unidad_convertir = int(input(\"Ingrese el número de la unidad de área a convertir: \"))\n",
        "\n",
        "    # Pedimos la cantidad a convertir\n",
        "    cantidad = float(input(\"Ingrese la cantidad a convertir: \"))\n",
        "\n",
        "    # Realizamos la conversión\n",
        "    conversion_original = unidades_area[unidad_original][\"conversion\"]\n",
        "    conversion_convertir = unidades_area[unidad_convertir][\"conversion\"]\n",
        "    resultado = cantidad * conversion_original / conversion_convertir\n",
        "\n",
        "    # Mostramos el resultado\n",
        "    print(f\"{cantidad} {unidades_area[unidad_original]['nombre']} son {resultado} {unidades_area[unidad_convertir]['nombre']}\")\n",
        "\n",
        "convertir_area()"
      ],
      "metadata": {
        "id": "PwVrujPWcEt1",
        "outputId": "3a186d65-8935-4725-83c4-ad162d831099",
        "colab": {
          "base_uri": "https://localhost:8080/"
        }
      },
      "execution_count": null,
      "outputs": [
        {
          "output_type": "stream",
          "name": "stdout",
          "text": [
            "Conversor de área\n",
            "------------------\n",
            "1. Lote\n",
            "2. Tarea\n",
            "3. Manzana\n",
            "4. Hectárea\n",
            "5. Acre\n",
            "6. Kilómetro cuadrado\n",
            "7. Milla cuadrada\n",
            "8. Centiárea\n",
            "9. Decímetro cuadrado\n",
            "10. Metro cuadrado\n",
            "Ingrese el número de la unidad de área original: 1\n",
            "Ingrese el número de la unidad de área a convertir: 4\n",
            "Ingrese la cantidad a convertir: 3\n",
            "3.0 Lote son 0.03 Hectárea\n"
          ]
        }
      ]
    },
    {
      "cell_type": "markdown",
      "source": [
        "5. **Realizar un conversor propio, donde especifiqué el valor de conversión.**"
      ],
      "metadata": {
        "id": "iCgiBUIoH1zP"
      }
    },
    {
      "cell_type": "code",
      "source": [
        "def convertir_unidades_a_cajas(unidades):\n",
        "    unidades_por_caja = 3//0.75\n",
        "    cajas = (unidades + unidades_por_caja - 1) // unidades_por_caja\n",
        "    return unidades - cajas * unidades_por_caja + 3.5\n",
        "\n",
        "def _convertir_libras_a_sacos(libras):\n",
        "    sacos_por_libra = 1/5\n",
        "    sacos = (libras + sacos_por_libra - 1) // sacos_por_libra\n",
        "    return libras - sacos * sacos_por_libra + 1.3000000000000003\n",
        "\n",
        "def _convertir_unidades_a_fardos(unidades):\n",
        "    unidades_por_fardo = 5//0.75\n",
        "    fardos = (unidades + unidades_por_fardo - 1) // unidades_por_fardo\n",
        "    return unidades - fardos * unidades_por_fardo + 7.300000000000001\n",
        "def main():\n",
        "\n",
        " print(\"Conversor de unidades\")\n",
        " print(\"1. Unidades a cajas\")\n",
        " print(\"2. Libras a sacos\")\n",
        " print(\"3. Unidades a fardos\")\n",
        "\n",
        " opcion = int(input(\"Seleccione una opción: \"))\n",
        "\n",
        " if opcion == 1:\n",
        "    unidades = float(input(\"Ingrese la cantidad de unidades: \"))\n",
        "    cajas = convertir_unidades_a_cajas(unidades)\n",
        "    print(f\"{unidades} unidades son equivalentes a {cajas} cajas.\")\n",
        "\n",
        " elif opcion == 2:\n",
        "    libras = float(input(\"Ingrese la cantidad de libras: \"))\n",
        "    sacos = _convertir_libras_a_sacos(libras)\n",
        "    print(f\"{libras} libras son equivalentes a {sacos} sacos.\")\n",
        "\n",
        " elif opcion == 3:\n",
        "    unidades = float(input(\"Ingrese la cantidad de unidades: \"))\n",
        "    fardos = _convertir_unidades_a_fardos(unidades)\n",
        "    print(f\"{unidades} unidades son equivalentes a {fardos} fardos.\")\n",
        "\n",
        " else:\n",
        "    print(\"Opción inválida. Por favor, seleccione una opción válida.\")\n",
        "\n",
        "if __name__ == \"__main__\":\n",
        " main()"
      ],
      "metadata": {
        "colab": {
          "base_uri": "https://localhost:8080/"
        },
        "id": "sUjk9P4aIA7O",
        "outputId": "e557654a-4fb7-4476-9036-d4cec2cfa47e"
      },
      "execution_count": 14,
      "outputs": [
        {
          "output_type": "stream",
          "name": "stdout",
          "text": [
            "Conversor de unidades\n",
            "1. Unidades a cajas\n",
            "2. Libras a sacos\n",
            "3. Unidades a fardos\n",
            "Seleccione una opción: 1\n",
            "Ingrese la cantidad de unidades: 8\n",
            "8.0 unidades son equivalentes a 3.5 cajas.\n"
          ]
        }
      ]
    },
    {
      "cell_type": "code",
      "source": [
        "serie = [1,2,3,3,4,4,1,8,9]\n",
        "print(serie.count(1))"
      ],
      "metadata": {
        "id": "FSG90UrGA73G",
        "outputId": "20d1ceea-ce06-4b8f-c340-8c17c66b915b",
        "colab": {
          "base_uri": "https://localhost:8080/"
        }
      },
      "execution_count": 11,
      "outputs": [
        {
          "output_type": "stream",
          "name": "stdout",
          "text": [
            "2\n"
          ]
        }
      ]
    },
    {
      "cell_type": "code",
      "source": [
        "numeros = []\n",
        "for i in range(1,10):\n",
        "  numeros.append(int(input(\"Num: \"+ str(i)+\": \")))\n",
        "num = int(input(\"Num a buscar: \"))\n",
        "print(\"Serie: \", numeros, \"El numero \", num, \", se repite: \", numeros.count(num))"
      ],
      "metadata": {
        "id": "M6CRZGZqB6EG",
        "outputId": "eee0424b-585b-412d-87cd-59bacb983310",
        "colab": {
          "base_uri": "https://localhost:8080/"
        }
      },
      "execution_count": null,
      "outputs": [
        {
          "output_type": "stream",
          "name": "stdout",
          "text": [
            "Num: 1: 1\n",
            "Num: 2: 8\n",
            "Num: 3: 6\n",
            "Num: 4: 4\n",
            "Num: 5: 2\n",
            "Num: 6: 1\n",
            "Num: 7: 2\n",
            "Num: 8: 3\n",
            "Num: 9: 1\n",
            "Num a buscar: 1\n",
            "Serie:  [1, 8, 6, 4, 2, 1, 2, 3, 1] El numero  1 , se repite:  3\n"
          ]
        }
      ]
    },
    {
      "cell_type": "code",
      "source": [
        "numeros = [1,5,2,6,2,1,4]\n",
        "numeros.sort()\n",
        "numeros.reverse()\n",
        "print(numeros)"
      ],
      "metadata": {
        "id": "IxjTC0ZOFy4X",
        "outputId": "ec5f3a7e-a59f-45fc-fe15-68424fd5ca4e",
        "colab": {
          "base_uri": "https://localhost:8080/"
        }
      },
      "execution_count": null,
      "outputs": [
        {
          "output_type": "stream",
          "name": "stdout",
          "text": [
            "[6, 5, 4, 2, 2, 1, 1]\n"
          ]
        }
      ]
    },
    {
      "cell_type": "markdown",
      "source": [
        "**DICCIONARIOS - JSON**"
      ],
      "metadata": {
        "id": "XjN2D0NXF6Qt"
      }
    },
    {
      "cell_type": "code",
      "source": [
        "datos = {\n",
        "    \"codigo\":\"USSS007723\",\n",
        "    \"nombre\":\"Kim Funes\",\n",
        "    \"materias\":[\n",
        "        {\"codigo\":\"611\",\"nombre\":\"Programacion III\",\"notas\":{\n",
        "            \"c1\":{\"lab1\":8,\"lab2\":9,\"parcial\":10},\n",
        "            \"c2\":{\"lab1\":10,\"lab2\":9,\"parcial\":10},\n",
        "            \"c3\":{\"lab1\":4,\"lab2\":5,\"parcial\":8}\n",
        "            }\n",
        "         },\n",
        "        {\"codigo\":\"612\",\"nombre\":\"Base de Datos\"}\n",
        "    ]\n",
        "}\n",
        "print(datos[\"nombre\"], datos[\"materias\"][0][\"nombre\"], datos[\"materias\"][0][\"notas\"][\"c1\"])"
      ],
      "metadata": {
        "id": "1mdsUQnoF5hO",
        "outputId": "9de79cc7-5b64-44aa-ee8e-a132407d0cd7",
        "colab": {
          "base_uri": "https://localhost:8080/"
        }
      },
      "execution_count": null,
      "outputs": [
        {
          "output_type": "stream",
          "name": "stdout",
          "text": [
            "Kim Funes Programacion III {'lab1': 8, 'lab2': 9, 'parcial': 10}\n"
          ]
        }
      ]
    },
    {
      "cell_type": "markdown",
      "source": [
        "**ESTRUCTURAS DE CONTROL**"
      ],
      "metadata": {
        "id": "Ll50VXeuFpsF"
      }
    },
    {
      "cell_type": "markdown",
      "source": [
        "**IF**\n",
        "\n",
        "EJERCICIO: SOLICITAR AL USUARIO LA EDAD Y DETERMINAR SU CLASIFICACION."
      ],
      "metadata": {
        "id": "DPQnfmfnFvHS"
      }
    },
    {
      "cell_type": "code",
      "source": [
        "edad = int(input(\"edad: \"))\n",
        "if edad > 17:\n",
        "  print(\"Bienvenido al mundo de las responsabilidades\")"
      ],
      "metadata": {
        "id": "D1_-hO2SFymt",
        "outputId": "edb39fc7-a825-44a4-8c80-eeb629261050",
        "colab": {
          "base_uri": "https://localhost:8080/"
        }
      },
      "execution_count": null,
      "outputs": [
        {
          "output_type": "stream",
          "name": "stdout",
          "text": [
            "edad: 20\n",
            "Bienvenido al mundo de las responsabilidades\n"
          ]
        }
      ]
    },
    {
      "cell_type": "markdown",
      "source": [
        "**CICLO WHILE**"
      ],
      "metadata": {
        "id": "vqVljofdOB3Q"
      }
    },
    {
      "cell_type": "code",
      "source": [
        "continuar = \"s\"\n",
        "while continuar==\"s\":\n",
        " edad = int(input(\"Edad: \"))\n",
        " if edad <0 :\n",
        "   print(\"Esta edad es invalida\")\n",
        " elif edad <=2:\n",
        "   print(\"Eres un bebe\")\n",
        " elif edad <12:\n",
        "   print(\"Eres un niño\")\n",
        " elif edad <18:\n",
        "   print(\"Eres un adolescente\")\n",
        " elif edad <65:\n",
        "   print(\"Eres un adulto\")\n",
        " elif edad <85:\n",
        "   print(\"Eres un adulto mayor\")\n",
        " else:\n",
        "   print(\"Larga Vida\")\n",
        " continuar = input(\"Continuar s, sino cualquier tecla: \")"
      ],
      "metadata": {
        "id": "Uk6FN79lHVXx",
        "outputId": "36f8ac8c-01a8-4cff-c1ca-927f3f0c218d",
        "colab": {
          "base_uri": "https://localhost:8080/"
        }
      },
      "execution_count": null,
      "outputs": [
        {
          "name": "stdout",
          "output_type": "stream",
          "text": [
            "Edad: 5\n",
            "Eres un niño\n",
            "Continuar s, sino cualquier tecla: s\n",
            "Edad: 18\n",
            "Eres un adulto\n",
            "Continuar s, sino cualquier tecla: ;\n"
          ]
        }
      ]
    },
    {
      "cell_type": "markdown",
      "source": [
        "**Solicitar un numero y verificar si es positivo o negativo**"
      ],
      "metadata": {
        "id": "spx5O3dULqJU"
      }
    },
    {
      "cell_type": "code",
      "source": [
        "num = int(input(\"Num: \"))\n",
        "if num < 0 :\n",
        "  print(\"El numero es negativo\")\n",
        "elif num >=0 :\n",
        "  print(\"El numero es positivo\")"
      ],
      "metadata": {
        "id": "ofM7X0WuKIdf",
        "outputId": "27ef1553-0345-4d19-ea91-44fb3ceb3993",
        "colab": {
          "base_uri": "https://localhost:8080/"
        }
      },
      "execution_count": null,
      "outputs": [
        {
          "output_type": "stream",
          "name": "stdout",
          "text": [
            "Num: 0\n",
            "El numero es positivo\n"
          ]
        }
      ]
    },
    {
      "cell_type": "markdown",
      "source": [
        "**CICLO FOR**\n",
        "\n",
        "*Solicitar una tabla de multiplicar y generarla*"
      ],
      "metadata": {
        "id": "r8epLx6COK-J"
      }
    },
    {
      "cell_type": "code",
      "source": [
        "continuar = \"s\"\n",
        "while continuar==\"s\":\n",
        "  tabla = int(input(\"Tabla: \"))\n",
        "  for i in range(1,11):\n",
        "    print(tabla, \"x\", i, \"=\", tabla*i)\n",
        "  continuar = input(\"Continuar s, sino cualquier tecla: \")"
      ],
      "metadata": {
        "id": "XUA2dcJ1OR4K",
        "outputId": "b9e78e13-992b-4bcb-d47c-775685cd8515",
        "colab": {
          "base_uri": "https://localhost:8080/"
        }
      },
      "execution_count": null,
      "outputs": [
        {
          "name": "stdout",
          "output_type": "stream",
          "text": [
            "Tabla: 7\n",
            "7 x 1 = 7\n",
            "7 x 2 = 14\n",
            "7 x 3 = 21\n",
            "7 x 4 = 28\n",
            "7 x 5 = 35\n",
            "7 x 6 = 42\n",
            "7 x 7 = 49\n",
            "7 x 8 = 56\n",
            "7 x 9 = 63\n",
            "7 x 10 = 70\n",
            "Continuar s, sino cualquier tecla: 10\n"
          ]
        }
      ]
    },
    {
      "cell_type": "markdown",
      "source": [
        "**PROGRAMACION ORIENTADA A OBJETOS**"
      ],
      "metadata": {
        "id": "ZNv78pLA_23m"
      }
    },
    {
      "cell_type": "markdown",
      "source": [
        "\n",
        "*   CLASE\n",
        "\n"
      ],
      "metadata": {
        "id": "4Uu7DNUR_6um"
      }
    },
    {
      "cell_type": "code",
      "source": [
        "class Calculadora:\n",
        "  def sumar(self, num1, num2):\n",
        "    return num1 + num2"
      ],
      "metadata": {
        "id": "FwhxSK8SAB5P"
      },
      "execution_count": null,
      "outputs": []
    },
    {
      "cell_type": "markdown",
      "source": [
        "\n",
        "*   OBJETOS\n",
        "\n",
        "\n"
      ],
      "metadata": {
        "id": "BFo0sNP3AGNu"
      }
    },
    {
      "cell_type": "code",
      "source": [
        "#instanciar la clase Calculadora, para crear el objeto a partir de la clase.\n",
        "objCalculadora = Calculadora()\n",
        "num1 = float(input(\"Num 1: \"))\n",
        "num2 = float(input(\"Num 2: \"))\n",
        "print(\"Suma: \", objCalculadora.sumar(num1, num2))"
      ],
      "metadata": {
        "id": "yMQPfD-vAdza",
        "outputId": "35f41a7f-e5dc-44dc-d975-c265cd078a61",
        "colab": {
          "base_uri": "https://localhost:8080/"
        }
      },
      "execution_count": null,
      "outputs": [
        {
          "output_type": "stream",
          "name": "stdout",
          "text": [
            "Num 1: 5\n",
            "Num 2: 3\n",
            "Suma:  8.0\n"
          ]
        }
      ]
    },
    {
      "cell_type": "markdown",
      "source": [
        "**EJERCICIO** *Escriba un programa que lea una serie de numeros introducidos por el usuario, y determine la media aritmetica.*"
      ],
      "metadata": {
        "id": "CVr11VkNArBt"
      }
    },
    {
      "cell_type": "code",
      "source": [
        "from math import sqrt\n",
        "\n",
        "class estadistica:\n",
        "  def media(self, serie):\n",
        "    suma = 0\n",
        "    for num in serie:\n",
        "      suma += num\n",
        "    return suma/len(serie)\n",
        "\n",
        "  def tipica(self, serie):\n",
        "    media = self.media(serie)\n",
        "    suma = 0\n",
        "    for num in serie:\n",
        "      suma += (num-media)**2\n",
        "    return sqrt(suma/len(serie))"
      ],
      "metadata": {
        "id": "wbBZTqPGAvlJ"
      },
      "execution_count": null,
      "outputs": []
    },
    {
      "cell_type": "code",
      "source": [
        "n = int(input(\"Cuantos numeros va a ingresar: \"))\n",
        "serie = []\n",
        "for num in range(1,n+1):\n",
        "  serie.append(int(input(\"Num: \")))\n",
        "\n",
        "objEstadistica = estadistica()\n",
        "print(\"La media es: \", objEstadistica.media(serie))\n",
        "\n",
        "print(\"La desviacion tipica es: \", round(objEstadistica.tipica(serie),3) )"
      ],
      "metadata": {
        "id": "UF4uHjSnA0x6",
        "outputId": "9e387dd8-4cf9-4d8f-c13f-6e5e5ba6c02f",
        "colab": {
          "base_uri": "https://localhost:8080/"
        }
      },
      "execution_count": null,
      "outputs": [
        {
          "output_type": "stream",
          "name": "stdout",
          "text": [
            "Cuantos numeros va a ingresar: 1\n",
            "Num: 1\n",
            "La media es:  1.0\n",
            "La desviacion tipica es:  0.0\n"
          ]
        }
      ]
    },
    {
      "cell_type": "markdown",
      "source": [
        "**TAREA:**\n",
        "\n",
        "*   Encontrar de una serie de numeros introducidos por el usuario la varianza.\n",
        "\n",
        "\n",
        "\n"
      ],
      "metadata": {
        "id": "5ZBZ6OAjBDcX"
      }
    },
    {
      "cell_type": "code",
      "source": [
        "def varianza_numeros():\n",
        "    print(\"Introduce una serie de números separados por comas:\")\n",
        "    numeros = input(\"> \")\n",
        "\n",
        "    numeros = [float(x) for x in numeros.split(\",\")]\n",
        "\n",
        "    media = sum(numeros) / len(numeros)\n",
        "\n",
        "    varianza = sum((x - media) ** 2 for x in numeros) / len(numeros)\n",
        "\n",
        "    print(f\"La varianza de la serie de números es: {varianza:.2f}\")\n",
        "\n",
        "varianza_numeros()"
      ],
      "metadata": {
        "id": "IIULn3flBsrk",
        "colab": {
          "base_uri": "https://localhost:8080/"
        },
        "outputId": "0a36f0a7-bd1e-4322-8918-5ebc0cace880"
      },
      "execution_count": 12,
      "outputs": [
        {
          "output_type": "stream",
          "name": "stdout",
          "text": [
            "Introduce una serie de números separados por comas:\n",
            "> 5,4,3,8,9,1,1\n",
            "La varianza de la serie de números es: 8.53\n"
          ]
        }
      ]
    },
    {
      "cell_type": "markdown",
      "source": [
        "*   Encontrar de una serie de numeros introducidos por el usuario la frecuencia."
      ],
      "metadata": {
        "id": "SdviQ9UFBtGQ"
      }
    },
    {
      "cell_type": "code",
      "source": [
        "def frecuencia_numeros():\n",
        "    print(\"Introduce una serie de números separados por comas:\")\n",
        "    numeros = input(\"> \")\n",
        "\n",
        "    # Convertimos la entrada en una lista de números\n",
        "    numeros = [int(x) for x in numeros.split(\",\")]\n",
        "\n",
        "    # Creamos un diccionario para almacenar la frecuencia de cada número\n",
        "    frecuencia = {}\n",
        "\n",
        "    # Recorremos la lista de números y contamos la frecuencia de cada uno\n",
        "    for numero in numeros:\n",
        "        if numero in frecuencia:\n",
        "            frecuencia[numero] += 1\n",
        "        else:\n",
        "            frecuencia[numero] = 1\n",
        "\n",
        "    # Mostramos la frecuencia de cada número\n",
        "    print(\"Frecuencia de cada número:\")\n",
        "    for numero, freq in frecuencia.items():\n",
        "        print(f\"El número {numero} aparece {freq} veces\")\n",
        "\n",
        "frecuencia_numeros()"
      ],
      "metadata": {
        "id": "DIxJBUUoBvxG",
        "outputId": "6cd6e8e3-b9e9-4263-ccb3-c0643386f49f",
        "colab": {
          "base_uri": "https://localhost:8080/"
        }
      },
      "execution_count": null,
      "outputs": [
        {
          "output_type": "stream",
          "name": "stdout",
          "text": [
            "Introduce una serie de números separados por comas:\n",
            "> 1,2,3,4,4,4,5,6,6\n",
            "Frecuencia de cada número:\n",
            "El número 1 aparece 1 veces\n",
            "El número 2 aparece 1 veces\n",
            "El número 3 aparece 1 veces\n",
            "El número 4 aparece 3 veces\n",
            "El número 5 aparece 1 veces\n",
            "El número 6 aparece 2 veces\n"
          ]
        }
      ]
    },
    {
      "cell_type": "markdown",
      "source": [
        "*   Escriba un programa que determine si una palabra introducida por el usuario es palindrome. ***Ejem.*** *Ana, Oso, Oro, Reconocer, etc.*"
      ],
      "metadata": {
        "id": "6Qlkx9ztBwF6"
      }
    },
    {
      "source": [
        "def es_palindromo(palabra):\n",
        "    # Convertir la palabra a minúsculas para comparación insensible a mayúsculas\n",
        "    palabra = palabra.lower()\n",
        "    # Eliminar espacios y caracteres no alfabéticos\n",
        "    palabra = ''.join(char for char in palabra if char.isalnum())\n",
        "    # Verificar si la palabra es igual a su reverso\n",
        "    return palabra == palabra[::-1]\n",
        "\n",
        "def main():\n",
        "    # Solicitar al usuario que introduzca una palabra\n",
        "    entrada = input(\"Introduce una palabra: \")\n",
        "    # Verificar si la entrada es un palíndrome\n",
        "    if es_palindromo(entrada):\n",
        "        print(f'\"{entrada}\" es un palíndrome.')\n",
        "    else:\n",
        "        print(f'\"{entrada}\" no es un palíndrome.')\n",
        "\n",
        "if __name__ == \"__main__\":\n",
        "   main()"
      ],
      "cell_type": "code",
      "metadata": {
        "colab": {
          "base_uri": "https://localhost:8080/"
        },
        "id": "GYbSh4o6EgZl",
        "outputId": "a5544149-bded-4af5-89a0-ac852e0f6046"
      },
      "execution_count": 10,
      "outputs": [
        {
          "output_type": "stream",
          "name": "stdout",
          "text": [
            "Introduce una palabra: oregero\n",
            "\"oregero\" es un palíndrome.\n"
          ]
        }
      ]
    }
  ]
}